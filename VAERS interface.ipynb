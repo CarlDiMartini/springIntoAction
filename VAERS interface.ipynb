<h1> Bold
{
 "cells": [
  {
   "cell_type": "markdown",
   "id": "37e2ebb9",
   "metadata": {},
   "source": [
    "# <center>COVID-19 Vaccine Safety</center>"
   ]
  },
  {
   "cell_type": "markdown",
   "id": "dfc15e0f",
   "metadata": {},
   "source": [
    "Thanks to the United States federal government's 'Vaccine Adverse Events Reporting System' [(VAERS)](https://vaers.hhs.gov/index.html), we will make two comparisons of case and death loads for the COVID-19 vaccines administered under a special 'emergency use authorization' on or before July 09, 2021:\n",
    "\n",
    "1) For Non-COVID-19 vs COVID-19 associated events since December 12, 2020, the start date of mass-vaccination against the world's most talked-about disease.\n",
    "\n",
    "2) For all vaccines over a 10 year period to see if there is a rise in risk appetite since the start date for mass-vaccination cited above."
   ]
  },
  {
   "cell_type": "markdown",
   "id": "6b590bc3",
   "metadata": {},
   "source": [
    "<br>"
   ]
  },
  {
   "cell_type": "markdown",
   "id": "8cb8ff44",
   "metadata": {},
   "source": [
    "Loading packages and comparing case and death loads during the time frame of emergency-use authorized mass-vaccination:"
   ]
  },
  {
   "cell_type": "code",
   "execution_count": 1,
   "id": "ff1692aa",
   "metadata": {},
   "outputs": [],
   "source": [
    "import pandas as pd\n",
    "import numpy as np\n",
    "import matplotlib.pyplot as plot\n",
    "import re"
   ]
  },
  {
   "cell_type": "code",
   "execution_count": 2,
   "id": "0de1d61e",
   "metadata": {},
   "outputs": [
    {
     "data": {
      "text/plain": [
       "(412149, 35)"
      ]
     },
     "execution_count": 2,
     "metadata": {},
     "output_type": "execute_result"
    }
   ],
   "source": [
    "df_case_2021 = pd.read_csv('2021VAERSData.csv', low_memory=False)\n",
    "df_case_2021.shape"
   ]
  },
  {
   "cell_type": "code",
   "execution_count": 3,
   "id": "a7c7bcdd",
   "metadata": {},
   "outputs": [],
   "source": [
    "df_case_2020 = pd.read_csv('2020VAERSData.csv', low_memory=False)"
   ]
  },
  {
   "cell_type": "code",
   "execution_count": 4,
   "id": "b0d85538",
   "metadata": {},
   "outputs": [],
   "source": [
    "df_case = df_case_2021.append(df_case_2020, ignore_index=True)"
   ]
  },
  {
   "cell_type": "code",
   "execution_count": 5,
   "id": "cda0a601",
   "metadata": {},
   "outputs": [
    {
     "data": {
      "text/html": [
       "<div>\n",
       "<style scoped>\n",
       "    .dataframe tbody tr th:only-of-type {\n",
       "        vertical-align: middle;\n",
       "    }\n",
       "\n",
       "    .dataframe tbody tr th {\n",
       "        vertical-align: top;\n",
       "    }\n",
       "\n",
       "    .dataframe thead th {\n",
       "        text-align: right;\n",
       "    }\n",
       "</style>\n",
       "<table border=\"1\" class=\"dataframe\">\n",
       "  <thead>\n",
       "    <tr style=\"text-align: right;\">\n",
       "      <th></th>\n",
       "      <th>VAERS_ID</th>\n",
       "      <th>RECVDATE</th>\n",
       "      <th>STATE</th>\n",
       "      <th>AGE_YRS</th>\n",
       "      <th>CAGE_YR</th>\n",
       "      <th>CAGE_MO</th>\n",
       "      <th>SEX</th>\n",
       "      <th>RPT_DATE</th>\n",
       "      <th>SYMPTOM_TEXT</th>\n",
       "      <th>DIED</th>\n",
       "      <th>...</th>\n",
       "      <th>CUR_ILL</th>\n",
       "      <th>HISTORY</th>\n",
       "      <th>PRIOR_VAX</th>\n",
       "      <th>SPLTTYPE</th>\n",
       "      <th>FORM_VERS</th>\n",
       "      <th>TODAYS_DATE</th>\n",
       "      <th>BIRTH_DEFECT</th>\n",
       "      <th>OFC_VISIT</th>\n",
       "      <th>ER_ED_VISIT</th>\n",
       "      <th>ALLERGIES</th>\n",
       "    </tr>\n",
       "  </thead>\n",
       "  <tbody>\n",
       "    <tr>\n",
       "      <th>0</th>\n",
       "      <td>916600</td>\n",
       "      <td>01/01/2021</td>\n",
       "      <td>TX</td>\n",
       "      <td>33.0</td>\n",
       "      <td>33.0</td>\n",
       "      <td>NaN</td>\n",
       "      <td>F</td>\n",
       "      <td>NaN</td>\n",
       "      <td>Right side of epiglottis swelled up and hinder...</td>\n",
       "      <td>NaN</td>\n",
       "      <td>...</td>\n",
       "      <td>None</td>\n",
       "      <td>None</td>\n",
       "      <td>NaN</td>\n",
       "      <td>NaN</td>\n",
       "      <td>2</td>\n",
       "      <td>01/01/2021</td>\n",
       "      <td>NaN</td>\n",
       "      <td>Y</td>\n",
       "      <td>NaN</td>\n",
       "      <td>Pcn and bee venom</td>\n",
       "    </tr>\n",
       "    <tr>\n",
       "      <th>1</th>\n",
       "      <td>916601</td>\n",
       "      <td>01/01/2021</td>\n",
       "      <td>CA</td>\n",
       "      <td>73.0</td>\n",
       "      <td>73.0</td>\n",
       "      <td>NaN</td>\n",
       "      <td>F</td>\n",
       "      <td>NaN</td>\n",
       "      <td>Approximately 30 min post vaccination administ...</td>\n",
       "      <td>NaN</td>\n",
       "      <td>...</td>\n",
       "      <td>Patient residing at nursing facility. See pati...</td>\n",
       "      <td>Patient residing at nursing facility. See pati...</td>\n",
       "      <td>NaN</td>\n",
       "      <td>NaN</td>\n",
       "      <td>2</td>\n",
       "      <td>01/01/2021</td>\n",
       "      <td>NaN</td>\n",
       "      <td>Y</td>\n",
       "      <td>NaN</td>\n",
       "      <td>\"Dairy\"</td>\n",
       "    </tr>\n",
       "    <tr>\n",
       "      <th>2</th>\n",
       "      <td>916602</td>\n",
       "      <td>01/01/2021</td>\n",
       "      <td>WA</td>\n",
       "      <td>23.0</td>\n",
       "      <td>23.0</td>\n",
       "      <td>NaN</td>\n",
       "      <td>F</td>\n",
       "      <td>NaN</td>\n",
       "      <td>About 15 minutes after receiving the vaccine, ...</td>\n",
       "      <td>NaN</td>\n",
       "      <td>...</td>\n",
       "      <td>None</td>\n",
       "      <td>None</td>\n",
       "      <td>NaN</td>\n",
       "      <td>NaN</td>\n",
       "      <td>2</td>\n",
       "      <td>01/01/2021</td>\n",
       "      <td>NaN</td>\n",
       "      <td>NaN</td>\n",
       "      <td>Y</td>\n",
       "      <td>Shellfish</td>\n",
       "    </tr>\n",
       "    <tr>\n",
       "      <th>3</th>\n",
       "      <td>916603</td>\n",
       "      <td>01/01/2021</td>\n",
       "      <td>WA</td>\n",
       "      <td>58.0</td>\n",
       "      <td>58.0</td>\n",
       "      <td>NaN</td>\n",
       "      <td>F</td>\n",
       "      <td>NaN</td>\n",
       "      <td>extreme fatigue, dizziness,. could not lift my...</td>\n",
       "      <td>NaN</td>\n",
       "      <td>...</td>\n",
       "      <td>kidney infection</td>\n",
       "      <td>diverticulitis, mitral valve prolapse, osteoar...</td>\n",
       "      <td>got measles from measel shot, mums from mumps ...</td>\n",
       "      <td>NaN</td>\n",
       "      <td>2</td>\n",
       "      <td>01/01/2021</td>\n",
       "      <td>NaN</td>\n",
       "      <td>NaN</td>\n",
       "      <td>NaN</td>\n",
       "      <td>Diclofenac, novacaine, lidocaine, pickles, tom...</td>\n",
       "    </tr>\n",
       "    <tr>\n",
       "      <th>4</th>\n",
       "      <td>916604</td>\n",
       "      <td>01/01/2021</td>\n",
       "      <td>TX</td>\n",
       "      <td>47.0</td>\n",
       "      <td>47.0</td>\n",
       "      <td>NaN</td>\n",
       "      <td>F</td>\n",
       "      <td>NaN</td>\n",
       "      <td>Injection site swelling, redness, warm to the ...</td>\n",
       "      <td>NaN</td>\n",
       "      <td>...</td>\n",
       "      <td>Na</td>\n",
       "      <td>NaN</td>\n",
       "      <td>NaN</td>\n",
       "      <td>NaN</td>\n",
       "      <td>2</td>\n",
       "      <td>01/01/2021</td>\n",
       "      <td>NaN</td>\n",
       "      <td>NaN</td>\n",
       "      <td>NaN</td>\n",
       "      <td>Na</td>\n",
       "    </tr>\n",
       "  </tbody>\n",
       "</table>\n",
       "<p>5 rows × 35 columns</p>\n",
       "</div>"
      ],
      "text/plain": [
       "   VAERS_ID    RECVDATE STATE  AGE_YRS  CAGE_YR  CAGE_MO SEX RPT_DATE  \\\n",
       "0    916600  01/01/2021    TX     33.0     33.0      NaN   F      NaN   \n",
       "1    916601  01/01/2021    CA     73.0     73.0      NaN   F      NaN   \n",
       "2    916602  01/01/2021    WA     23.0     23.0      NaN   F      NaN   \n",
       "3    916603  01/01/2021    WA     58.0     58.0      NaN   F      NaN   \n",
       "4    916604  01/01/2021    TX     47.0     47.0      NaN   F      NaN   \n",
       "\n",
       "                                        SYMPTOM_TEXT DIED  ...  \\\n",
       "0  Right side of epiglottis swelled up and hinder...  NaN  ...   \n",
       "1  Approximately 30 min post vaccination administ...  NaN  ...   \n",
       "2  About 15 minutes after receiving the vaccine, ...  NaN  ...   \n",
       "3  extreme fatigue, dizziness,. could not lift my...  NaN  ...   \n",
       "4  Injection site swelling, redness, warm to the ...  NaN  ...   \n",
       "\n",
       "                                             CUR_ILL  \\\n",
       "0                                               None   \n",
       "1  Patient residing at nursing facility. See pati...   \n",
       "2                                               None   \n",
       "3                                   kidney infection   \n",
       "4                                                 Na   \n",
       "\n",
       "                                             HISTORY  \\\n",
       "0                                               None   \n",
       "1  Patient residing at nursing facility. See pati...   \n",
       "2                                               None   \n",
       "3  diverticulitis, mitral valve prolapse, osteoar...   \n",
       "4                                                NaN   \n",
       "\n",
       "                                           PRIOR_VAX SPLTTYPE  FORM_VERS  \\\n",
       "0                                                NaN      NaN          2   \n",
       "1                                                NaN      NaN          2   \n",
       "2                                                NaN      NaN          2   \n",
       "3  got measles from measel shot, mums from mumps ...      NaN          2   \n",
       "4                                                NaN      NaN          2   \n",
       "\n",
       "  TODAYS_DATE BIRTH_DEFECT OFC_VISIT ER_ED_VISIT  \\\n",
       "0  01/01/2021          NaN         Y         NaN   \n",
       "1  01/01/2021          NaN         Y         NaN   \n",
       "2  01/01/2021          NaN       NaN           Y   \n",
       "3  01/01/2021          NaN       NaN         NaN   \n",
       "4  01/01/2021          NaN       NaN         NaN   \n",
       "\n",
       "                                           ALLERGIES  \n",
       "0                                  Pcn and bee venom  \n",
       "1                                            \"Dairy\"  \n",
       "2                                          Shellfish  \n",
       "3  Diclofenac, novacaine, lidocaine, pickles, tom...  \n",
       "4                                                 Na  \n",
       "\n",
       "[5 rows x 35 columns]"
      ]
     },
     "execution_count": 5,
     "metadata": {},
     "output_type": "execute_result"
    }
   ],
   "source": [
    "df_case.head()"
   ]
  },
  {
   "cell_type": "code",
   "execution_count": 6,
   "id": "c741486b",
   "metadata": {},
   "outputs": [
    {
     "name": "stdout",
     "output_type": "stream",
     "text": [
      "<class 'pandas.core.frame.DataFrame'>\n",
      "RangeIndex: 461565 entries, 0 to 461564\n",
      "Data columns (total 1 columns):\n",
      " #   Column  Non-Null Count  Dtype \n",
      "---  ------  --------------  ----- \n",
      " 0   DIED    5697 non-null   object\n",
      "dtypes: object(1)\n",
      "memory usage: 3.5+ MB\n"
     ]
    }
   ],
   "source": [
    "df_case[['DIED']].info()"
   ]
  },
  {
   "cell_type": "code",
   "execution_count": 7,
   "id": "50aa251c",
   "metadata": {},
   "outputs": [],
   "source": [
    "df_vax = pd.read_csv('2021VAERSVAX.csv')"
   ]
  },
  {
   "cell_type": "code",
   "execution_count": 8,
   "id": "4bf69d49",
   "metadata": {},
   "outputs": [],
   "source": [
    "df_vax_2020 = pd.read_csv('2020VAERSVAX.csv')"
   ]
  },
  {
   "cell_type": "code",
   "execution_count": 9,
   "id": "7e7a9620",
   "metadata": {},
   "outputs": [
    {
     "data": {
      "text/plain": [
       "(Index(['VAERS_ID', 'VAX_TYPE', 'VAX_MANU', 'VAX_LOT', 'VAX_DOSE_SERIES',\n",
       "        'VAX_ROUTE', 'VAX_SITE', 'VAX_NAME'],\n",
       "       dtype='object'),\n",
       " Index(['VAERS_ID', 'VAX_TYPE', 'VAX_MANU', 'VAX_LOT', 'VAX_DOSE_SERIES',\n",
       "        'VAX_ROUTE', 'VAX_SITE', 'VAX_NAME'],\n",
       "       dtype='object'))"
      ]
     },
     "execution_count": 9,
     "metadata": {},
     "output_type": "execute_result"
    }
   ],
   "source": [
    "df_vax.columns, df_vax_2020.columns"
   ]
  },
  {
   "cell_type": "code",
   "execution_count": 10,
   "id": "0be95142",
   "metadata": {},
   "outputs": [],
   "source": [
    "df_vax = df_vax.append(df_vax_2020, ignore_index=True)"
   ]
  },
  {
   "cell_type": "code",
   "execution_count": 11,
   "id": "62ed23f0",
   "metadata": {},
   "outputs": [],
   "source": [
    "df = pd.merge(df_case, df_vax, on='VAERS_ID')"
   ]
  },
  {
   "cell_type": "code",
   "execution_count": 12,
   "id": "4448910c",
   "metadata": {},
   "outputs": [
    {
     "data": {
      "text/plain": [
       "486885   2020-12-30\n",
       "486886   2020-12-31\n",
       "486887   2020-12-31\n",
       "486888   2020-12-31\n",
       "486889   2020-12-31\n",
       "Name: TODAYS_DATE, dtype: datetime64[ns]"
      ]
     },
     "execution_count": 12,
     "metadata": {},
     "output_type": "execute_result"
    }
   ],
   "source": [
    "df['TODAYS_DATE'] = pd.to_datetime(df['TODAYS_DATE'])\n",
    "df['TODAYS_DATE'].tail()"
   ]
  },
  {
   "cell_type": "code",
   "execution_count": 13,
   "id": "4c48492b",
   "metadata": {},
   "outputs": [],
   "source": [
    "df = df[df['TODAYS_DATE']>= pd.Timestamp(2020, 12, 10)]"
   ]
  },
  {
   "cell_type": "code",
   "execution_count": 14,
   "id": "13beaf52",
   "metadata": {},
   "outputs": [],
   "source": [
    "COVID_vaccines= [value for value in df['VAX_NAME'].unique() if re.search(\"COVID\", value)]\n",
    "df['flag'] = df.apply(lambda x: int(x['VAX_NAME'] in COVID_vaccines), axis=1)"
   ]
  },
  {
   "cell_type": "code",
   "execution_count": 15,
   "id": "7fe45a5a",
   "metadata": {},
   "outputs": [],
   "source": [
    "df_case_load_not_COVID = pd.DataFrame(df[df['flag'] == 0].groupby('TODAYS_DATE').size()).rename(columns = {0: 'cases'})\n",
    "df_case_load_not_COVID['cumulative'] = [df_case_load_not_COVID['cases'][:i+1].sum() for i in \\\n",
    "                                    range(len(df_case_load_not_COVID['cases']))]"
   ]
  },
  {
   "cell_type": "code",
   "execution_count": 16,
   "id": "5f045a9c",
   "metadata": {},
   "outputs": [],
   "source": [
    "df_case_load_COVID = pd.DataFrame(df[df['flag'] == 1].groupby('TODAYS_DATE').size()).rename(columns = {0: 'cases'})\n",
    "df_case_load_COVID['cumulative'] = [df_case_load_COVID['cases'][:i+1].sum() for i in \\\n",
    "                                    range(len(df_case_load_COVID['cases']))]"
   ]
  },
  {
   "cell_type": "code",
   "execution_count": 17,
   "id": "815cfc31",
   "metadata": {},
   "outputs": [
    {
     "data": {
      "image/png": "[encoded data removed]",
      "text/plain": [
       "<Figure size 432x288 with 1 Axes>"
      ]
     },
     "metadata": {
      "needs_background": "light"
     },
     "output_type": "display_data"
    }
   ],
   "source": [
    "df_case_load_COVID['cumulative'].plot()\n",
    "df_case_load_not_COVID['cumulative'].plot()\n",
    "plot.ylabel('Case Load')\n",
    "plot.xlabel('Date')\n",
    "plot.show()"
   ]
  },
  {
   "cell_type": "code",
   "execution_count": 18,
   "id": "96e94acd",
   "metadata": {},
   "outputs": [],
   "source": [
    "df_death_load_COVID = pd.DataFrame(df[df['flag'] == 1].reindex_like(df)[df['DIED']==df['DIED']].\\\n",
    "                                   groupby('TODAYS_DATE').size()).rename(columns = {0: 'deaths'})\n",
    "df_death_load_COVID['cumulative'] = [df_death_load_COVID['deaths'][:i+1].sum()\\\n",
    "                                    for i in range(len(df_death_load_COVID['deaths']))]"
   ]
  },
  {
   "cell_type": "code",
   "execution_count": 19,
   "id": "58dc9435",
   "metadata": {},
   "outputs": [],
   "source": [
    "df_death_load_not_COVID = pd.DataFrame(df[df['flag'] == 0].reindex_like(df)[df['DIED']==df['DIED']].\\\n",
    "                                   groupby('TODAYS_DATE').size()).rename(columns = {0: 'deaths'})\n",
    "df_death_load_not_COVID['cumulative'] = [df_death_load_not_COVID['deaths'][:i+1].sum()\\\n",
    "                                    for i in range(len(df_death_load_not_COVID['deaths']))]"
   ]
  },
  {
   "cell_type": "code",
   "execution_count": 20,
   "id": "21fa7379",
   "metadata": {},
   "outputs": [
    {
     "data": {
      "image/png": "[encoded data removed]",
      "text/plain": [
       "<Figure size 432x288 with 1 Axes>"
      ]
     },
     "metadata": {
      "needs_background": "light"
     },
     "output_type": "display_data"
    }
   ],
   "source": [
    "df_death_load_COVID['cumulative'].plot()\n",
    "df_death_load_not_COVID['cumulative'].plot()\n",
    "plot.ylabel('Death Load')\n",
    "plot.xlabel('Date')\n",
    "plot.show()"
   ]
  },
  {
   "cell_type": "markdown",
   "id": "1332ae0a",
   "metadata": {},
   "source": [
    "Needless-to-day the COVID-19 events shown in blue in both charts dominate all others shown in tan."
   ]
  },
  {
   "cell_type": "markdown",
   "id": "f63f4e00",
   "metadata": {},
   "source": [
    "<br>"
   ]
  },
  {
   "cell_type": "markdown",
   "id": "b9b032c7",
   "metadata": {},
   "source": [
    "Now, to look at total case load and death load over 10 years:"
   ]
  },
  {
   "cell_type": "markdown",
   "id": "23a227f9",
   "metadata": {},
   "source": [
    "<br>"
   ]
  },
  {
   "cell_type": "code",
   "execution_count": 21,
   "id": "9c63ab89",
   "metadata": {},
   "outputs": [
    {
     "data": {
      "text/plain": [
       "(778929, 35)"
      ]
     },
     "execution_count": 21,
     "metadata": {},
     "output_type": "execute_result"
    }
   ],
   "source": [
    "df_case_10_year = pd.DataFrame({})\n",
    "for i in range(2012,2022):\n",
    "    df_case_10_year = df_case_10_year.append(pd.read_csv(str(i)+\"VAERSData.csv\", low_memory=False), ignore_index=True)\n",
    "df_case_10_year.shape"
   ]
  },
  {
   "cell_type": "code",
   "execution_count": 22,
   "id": "7e15031d",
   "metadata": {},
   "outputs": [],
   "source": [
    "df_case_10_year['TODAYS_DATE'] = pd.to_datetime(df_case_10_year['TODAYS_DATE'])\n",
    "df_case_10_year = df_case_10_year[df_case_10_year['TODAYS_DATE']>= pd.Timestamp(2012, 1, 1)]"
   ]
  },
  {
   "cell_type": "code",
   "execution_count": 23,
   "id": "02fd7a9e",
   "metadata": {},
   "outputs": [
    {
     "data": {
      "text/plain": [
       "Timestamp('2012-04-22 00:00:00')"
      ]
     },
     "execution_count": 23,
     "metadata": {},
     "output_type": "execute_result"
    }
   ],
   "source": [
    "df_case_10_year['TODAYS_DATE'].min()"
   ]
  },
  {
   "cell_type": "code",
   "execution_count": 24,
   "id": "d3bc07d0",
   "metadata": {},
   "outputs": [
    {
     "data": {
      "text/plain": [
       "array([nan, 'Y'], dtype=object)"
      ]
     },
     "execution_count": 24,
     "metadata": {},
     "output_type": "execute_result"
    }
   ],
   "source": [
    "df_case_10_year['DIED'].unique()"
   ]
  },
  {
   "cell_type": "code",
   "execution_count": 25,
   "id": "6e5bd31c",
   "metadata": {},
   "outputs": [],
   "source": [
    "df_case_load_tally = pd.DataFrame(df_case_10_year.groupby('TODAYS_DATE').size()).rename(columns = {0: 'cases'})\n",
    "df_case_load_tally['cumulative'] = [df_case_load_tally['cases'][:i+1].sum() for i in \\\n",
    "                                    range(len(df_case_load_tally['cases']))]"
   ]
  },
  {
   "cell_type": "code",
   "execution_count": 26,
   "id": "928a364d",
   "metadata": {},
   "outputs": [
    {
     "data": {
      "image/png": "[encoded data removed]",
      "text/plain": [
       "<Figure size 432x288 with 1 Axes>"
      ]
     },
     "metadata": {
      "needs_background": "light"
     },
     "output_type": "display_data"
    }
   ],
   "source": [
    "df_case_load_tally['cumulative'].plot()\n",
    "plot.ylabel('Case Load')\n",
    "plot.xlabel('Date')\n",
    "plot.show()"
   ]
  },
  {
   "cell_type": "code",
   "execution_count": 27,
   "id": "ff8b5a23",
   "metadata": {},
   "outputs": [],
   "source": [
    "df_death_load_tally = pd.DataFrame(df_case_10_year[df_case_10_year['DIED']==df_case_10_year['DIED']]\\\n",
    "                                   .groupby('TODAYS_DATE').size()).rename(columns = {0: 'cases'})\n",
    "df_death_load_tally['cumulative'] = [df_death_load_tally['cases'][:i+1].sum() for i in \\\n",
    "                                    range(len(df_death_load_tally['cases']))]"
   ]
  },
  {
   "cell_type": "code",
   "execution_count": 28,
   "id": "0ec8c1d1",
   "metadata": {},
   "outputs": [
    {
     "data": {
      "image/png": "[encoded data removed]",
      "text/plain": [
       "<Figure size 432x288 with 1 Axes>"
      ]
     },
     "metadata": {
      "needs_background": "light"
     },
     "output_type": "display_data"
    }
   ],
   "source": [
    "df_death_load_tally['cumulative'].plot()\n",
    "plot.ylabel('Death Load')\n",
    "plot.xlabel('Date')\n",
    "plot.show()"
   ]
  },
  {
   "cell_type": "markdown",
   "id": "600a6046",
   "metadata": {},
   "source": [
    "Both shot up dramatically since the beginning of COVID-19 vaccinations. Deaths from traditional vaccines were not even happening from the beginning of the 10 year interval."
   ]
  }
 ],
 "metadata": {
  "kernelspec": {
   "display_name": "Python 3",
   "language": "python",
   "name": "python3"
  },
  "language_info": {
   "codemirror_mode": {
    "name": "ipython",
    "version": 3
   },
   "file_extension": ".py",
   "mimetype": "text/x-python",
   "name": "python",
   "nbconvert_exporter": "python",
   "pygments_lexer": "ipython3",
   "version": "3.8.8"
  }
 },
 "nbformat": 4,
 "nbformat_minor": 5
}
