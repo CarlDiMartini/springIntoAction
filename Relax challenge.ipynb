{
 "cells": [
  {
   "cell_type": "code",
   "execution_count": 786,
   "id": "0306880d",
   "metadata": {},
   "outputs": [],
   "source": [
    "import pandas as pd\n",
    "import numpy as np\n",
    "from matplotlib import pyplot as plt\n",
    "from sklearn.preprocessing import StandardScaler\n",
    "from sklearn.linear_model import LogisticRegression"
   ]
  },
  {
   "cell_type": "code",
   "execution_count": 787,
   "id": "d3db29f6",
   "metadata": {},
   "outputs": [],
   "source": [
    "df_sessions = pd.read_csv('takehome_user_engagement.csv')"
   ]
  },
  {
   "cell_type": "code",
   "execution_count": 788,
   "id": "eadcf356",
   "metadata": {},
   "outputs": [],
   "source": [
    "df_users = pd.read_csv('takehome_users.csv')"
   ]
  },
  {
   "cell_type": "code",
   "execution_count": 789,
   "id": "f4879556",
   "metadata": {},
   "outputs": [
    {
     "data": {
      "text/html": [
       "<style  type=\"text/css\" >\n",
       "</style><table id=\"T_bc9d1_\" ><thead>    <tr>        <th class=\"col_heading level0 col0\" >time_stamp</th>        <th class=\"col_heading level0 col1\" >user_id</th>        <th class=\"col_heading level0 col2\" >visited</th>    </tr></thead><tbody>\n",
       "                <tr>\n",
       "                                <td id=\"T_bc9d1_row0_col0\" class=\"data row0 col0\" >2013-12-31 03:45:04</td>\n",
       "                        <td id=\"T_bc9d1_row0_col1\" class=\"data row0 col1\" >2</td>\n",
       "                        <td id=\"T_bc9d1_row0_col2\" class=\"data row0 col2\" >1</td>\n",
       "            </tr>\n",
       "            <tr>\n",
       "                                <td id=\"T_bc9d1_row1_col0\" class=\"data row1 col0\" >2014-01-08 03:45:04</td>\n",
       "                        <td id=\"T_bc9d1_row1_col1\" class=\"data row1 col1\" >2</td>\n",
       "                        <td id=\"T_bc9d1_row1_col2\" class=\"data row1 col2\" >1</td>\n",
       "            </tr>\n",
       "            <tr>\n",
       "                                <td id=\"T_bc9d1_row2_col0\" class=\"data row2 col0\" >2014-02-03 03:45:04</td>\n",
       "                        <td id=\"T_bc9d1_row2_col1\" class=\"data row2 col1\" >2</td>\n",
       "                        <td id=\"T_bc9d1_row2_col2\" class=\"data row2 col2\" >1</td>\n",
       "            </tr>\n",
       "            <tr>\n",
       "                                <td id=\"T_bc9d1_row3_col0\" class=\"data row3 col0\" >2014-02-08 03:45:04</td>\n",
       "                        <td id=\"T_bc9d1_row3_col1\" class=\"data row3 col1\" >2</td>\n",
       "                        <td id=\"T_bc9d1_row3_col2\" class=\"data row3 col2\" >1</td>\n",
       "            </tr>\n",
       "            <tr>\n",
       "                                <td id=\"T_bc9d1_row4_col0\" class=\"data row4 col0\" >2014-02-09 03:45:04</td>\n",
       "                        <td id=\"T_bc9d1_row4_col1\" class=\"data row4 col1\" >2</td>\n",
       "                        <td id=\"T_bc9d1_row4_col2\" class=\"data row4 col2\" >1</td>\n",
       "            </tr>\n",
       "    </tbody></table>"
      ],
      "text/plain": [
       "<pandas.io.formats.style.Styler at 0x1e001145400>"
      ]
     },
     "execution_count": 789,
     "metadata": {},
     "output_type": "execute_result"
    }
   ],
   "source": [
    "df_sessions.head(10).tail(5).style.hide_index()"
   ]
  },
  {
   "cell_type": "code",
   "execution_count": 790,
   "id": "7b680576",
   "metadata": {},
   "outputs": [
    {
     "data": {
      "text/html": [
       "<div>\n",
       "<style scoped>\n",
       "    .dataframe tbody tr th:only-of-type {\n",
       "        vertical-align: middle;\n",
       "    }\n",
       "\n",
       "    .dataframe tbody tr th {\n",
       "        vertical-align: top;\n",
       "    }\n",
       "\n",
       "    .dataframe thead th {\n",
       "        text-align: right;\n",
       "    }\n",
       "</style>\n",
       "<table border=\"1\" class=\"dataframe\">\n",
       "  <thead>\n",
       "    <tr style=\"text-align: right;\">\n",
       "      <th></th>\n",
       "      <th>user_id</th>\n",
       "      <th>visited</th>\n",
       "    </tr>\n",
       "  </thead>\n",
       "  <tbody>\n",
       "    <tr>\n",
       "      <th>count</th>\n",
       "      <td>207917.000000</td>\n",
       "      <td>207917.0</td>\n",
       "    </tr>\n",
       "    <tr>\n",
       "      <th>mean</th>\n",
       "      <td>5913.314197</td>\n",
       "      <td>1.0</td>\n",
       "    </tr>\n",
       "    <tr>\n",
       "      <th>std</th>\n",
       "      <td>3394.941674</td>\n",
       "      <td>0.0</td>\n",
       "    </tr>\n",
       "    <tr>\n",
       "      <th>min</th>\n",
       "      <td>1.000000</td>\n",
       "      <td>1.0</td>\n",
       "    </tr>\n",
       "    <tr>\n",
       "      <th>25%</th>\n",
       "      <td>3087.000000</td>\n",
       "      <td>1.0</td>\n",
       "    </tr>\n",
       "    <tr>\n",
       "      <th>50%</th>\n",
       "      <td>5682.000000</td>\n",
       "      <td>1.0</td>\n",
       "    </tr>\n",
       "    <tr>\n",
       "      <th>75%</th>\n",
       "      <td>8944.000000</td>\n",
       "      <td>1.0</td>\n",
       "    </tr>\n",
       "    <tr>\n",
       "      <th>max</th>\n",
       "      <td>12000.000000</td>\n",
       "      <td>1.0</td>\n",
       "    </tr>\n",
       "  </tbody>\n",
       "</table>\n",
       "</div>"
      ],
      "text/plain": [
       "             user_id   visited\n",
       "count  207917.000000  207917.0\n",
       "mean     5913.314197       1.0\n",
       "std      3394.941674       0.0\n",
       "min         1.000000       1.0\n",
       "25%      3087.000000       1.0\n",
       "50%      5682.000000       1.0\n",
       "75%      8944.000000       1.0\n",
       "max     12000.000000       1.0"
      ]
     },
     "execution_count": 790,
     "metadata": {},
     "output_type": "execute_result"
    }
   ],
   "source": [
    "df_sessions.describe()"
   ]
  },
  {
   "cell_type": "code",
   "execution_count": 791,
   "id": "1dfc7282",
   "metadata": {},
   "outputs": [
    {
     "name": "stdout",
     "output_type": "stream",
     "text": [
      "<class 'pandas.core.frame.DataFrame'>\n",
      "RangeIndex: 207917 entries, 0 to 207916\n",
      "Data columns (total 3 columns):\n",
      " #   Column      Non-Null Count   Dtype \n",
      "---  ------      --------------   ----- \n",
      " 0   time_stamp  207917 non-null  object\n",
      " 1   user_id     207917 non-null  int64 \n",
      " 2   visited     207917 non-null  int64 \n",
      "dtypes: int64(2), object(1)\n",
      "memory usage: 4.8+ MB\n"
     ]
    }
   ],
   "source": [
    "df_sessions.info()"
   ]
  },
  {
   "cell_type": "markdown",
   "id": "95ec8667",
   "metadata": {},
   "source": [
    "Making a modification to the dataframe for sessions:"
   ]
  },
  {
   "cell_type": "code",
   "execution_count": 792,
   "id": "6414b568",
   "metadata": {},
   "outputs": [
    {
     "data": {
      "text/plain": [
       "Series([], Name: time_stamp, dtype: datetime64[ns])"
      ]
     },
     "execution_count": 792,
     "metadata": {},
     "output_type": "execute_result"
    }
   ],
   "source": [
    "df_sessions['time_stamp'] = pd.to_datetime(df_sessions['time_stamp'])\n",
    "df_sessions['time_stamp'].head(0)"
   ]
  },
  {
   "cell_type": "code",
   "execution_count": 793,
   "id": "5fd8d3aa",
   "metadata": {},
   "outputs": [
    {
     "data": {
      "text/html": [
       "<style  type=\"text/css\" >\n",
       "</style><table id=\"T_2bd37_\" ><thead>    <tr>        <th class=\"col_heading level0 col0\" >object_id</th>        <th class=\"col_heading level0 col1\" >creation_time</th>        <th class=\"col_heading level0 col2\" >name</th>        <th class=\"col_heading level0 col3\" >email</th>        <th class=\"col_heading level0 col4\" >creation_source</th>        <th class=\"col_heading level0 col5\" >last_session_creation_time</th>        <th class=\"col_heading level0 col6\" >opted_in_to_mailing_list</th>        <th class=\"col_heading level0 col7\" >enabled_for_marketing_drip</th>        <th class=\"col_heading level0 col8\" >org_id</th>        <th class=\"col_heading level0 col9\" >invited_by_user_id</th>    </tr></thead><tbody>\n",
       "                <tr>\n",
       "                                <td id=\"T_2bd37_row0_col0\" class=\"data row0 col0\" >11996</td>\n",
       "                        <td id=\"T_2bd37_row0_col1\" class=\"data row0 col1\" >2013-09-06 06:14:15</td>\n",
       "                        <td id=\"T_2bd37_row0_col2\" class=\"data row0 col2\" >Meier Sophia</td>\n",
       "                        <td id=\"T_2bd37_row0_col3\" class=\"data row0 col3\" >SophiaMeier@gustr.com</td>\n",
       "                        <td id=\"T_2bd37_row0_col4\" class=\"data row0 col4\" >ORG_INVITE</td>\n",
       "                        <td id=\"T_2bd37_row0_col5\" class=\"data row0 col5\" >1378448055.000000</td>\n",
       "                        <td id=\"T_2bd37_row0_col6\" class=\"data row0 col6\" >0</td>\n",
       "                        <td id=\"T_2bd37_row0_col7\" class=\"data row0 col7\" >0</td>\n",
       "                        <td id=\"T_2bd37_row0_col8\" class=\"data row0 col8\" >89</td>\n",
       "                        <td id=\"T_2bd37_row0_col9\" class=\"data row0 col9\" >8263.000000</td>\n",
       "            </tr>\n",
       "            <tr>\n",
       "                                <td id=\"T_2bd37_row1_col0\" class=\"data row1 col0\" >11997</td>\n",
       "                        <td id=\"T_2bd37_row1_col1\" class=\"data row1 col1\" >2013-01-10 18:28:37</td>\n",
       "                        <td id=\"T_2bd37_row1_col2\" class=\"data row1 col2\" >Fisher Amelie</td>\n",
       "                        <td id=\"T_2bd37_row1_col3\" class=\"data row1 col3\" >AmelieFisher@gmail.com</td>\n",
       "                        <td id=\"T_2bd37_row1_col4\" class=\"data row1 col4\" >SIGNUP_GOOGLE_AUTH</td>\n",
       "                        <td id=\"T_2bd37_row1_col5\" class=\"data row1 col5\" >1358274517.000000</td>\n",
       "                        <td id=\"T_2bd37_row1_col6\" class=\"data row1 col6\" >0</td>\n",
       "                        <td id=\"T_2bd37_row1_col7\" class=\"data row1 col7\" >0</td>\n",
       "                        <td id=\"T_2bd37_row1_col8\" class=\"data row1 col8\" >200</td>\n",
       "                        <td id=\"T_2bd37_row1_col9\" class=\"data row1 col9\" >nan</td>\n",
       "            </tr>\n",
       "            <tr>\n",
       "                                <td id=\"T_2bd37_row2_col0\" class=\"data row2 col0\" >11998</td>\n",
       "                        <td id=\"T_2bd37_row2_col1\" class=\"data row2 col1\" >2014-04-27 12:45:16</td>\n",
       "                        <td id=\"T_2bd37_row2_col2\" class=\"data row2 col2\" >Haynes Jake</td>\n",
       "                        <td id=\"T_2bd37_row2_col3\" class=\"data row2 col3\" >JakeHaynes@cuvox.de</td>\n",
       "                        <td id=\"T_2bd37_row2_col4\" class=\"data row2 col4\" >GUEST_INVITE</td>\n",
       "                        <td id=\"T_2bd37_row2_col5\" class=\"data row2 col5\" >1398602716.000000</td>\n",
       "                        <td id=\"T_2bd37_row2_col6\" class=\"data row2 col6\" >1</td>\n",
       "                        <td id=\"T_2bd37_row2_col7\" class=\"data row2 col7\" >1</td>\n",
       "                        <td id=\"T_2bd37_row2_col8\" class=\"data row2 col8\" >83</td>\n",
       "                        <td id=\"T_2bd37_row2_col9\" class=\"data row2 col9\" >8074.000000</td>\n",
       "            </tr>\n",
       "            <tr>\n",
       "                                <td id=\"T_2bd37_row3_col0\" class=\"data row3 col0\" >11999</td>\n",
       "                        <td id=\"T_2bd37_row3_col1\" class=\"data row3 col1\" >2012-05-31 11:55:59</td>\n",
       "                        <td id=\"T_2bd37_row3_col2\" class=\"data row3 col2\" >Faber Annett</td>\n",
       "                        <td id=\"T_2bd37_row3_col3\" class=\"data row3 col3\" >mhaerzxp@iuxiw.com</td>\n",
       "                        <td id=\"T_2bd37_row3_col4\" class=\"data row3 col4\" >PERSONAL_PROJECTS</td>\n",
       "                        <td id=\"T_2bd37_row3_col5\" class=\"data row3 col5\" >1338638159.000000</td>\n",
       "                        <td id=\"T_2bd37_row3_col6\" class=\"data row3 col6\" >0</td>\n",
       "                        <td id=\"T_2bd37_row3_col7\" class=\"data row3 col7\" >0</td>\n",
       "                        <td id=\"T_2bd37_row3_col8\" class=\"data row3 col8\" >6</td>\n",
       "                        <td id=\"T_2bd37_row3_col9\" class=\"data row3 col9\" >nan</td>\n",
       "            </tr>\n",
       "            <tr>\n",
       "                                <td id=\"T_2bd37_row4_col0\" class=\"data row4 col0\" >12000</td>\n",
       "                        <td id=\"T_2bd37_row4_col1\" class=\"data row4 col1\" >2014-01-26 08:57:12</td>\n",
       "                        <td id=\"T_2bd37_row4_col2\" class=\"data row4 col2\" >Lima Tha�s</td>\n",
       "                        <td id=\"T_2bd37_row4_col3\" class=\"data row4 col3\" >ThaisMeloLima@hotmail.com</td>\n",
       "                        <td id=\"T_2bd37_row4_col4\" class=\"data row4 col4\" >SIGNUP</td>\n",
       "                        <td id=\"T_2bd37_row4_col5\" class=\"data row4 col5\" >1390726632.000000</td>\n",
       "                        <td id=\"T_2bd37_row4_col6\" class=\"data row4 col6\" >0</td>\n",
       "                        <td id=\"T_2bd37_row4_col7\" class=\"data row4 col7\" >1</td>\n",
       "                        <td id=\"T_2bd37_row4_col8\" class=\"data row4 col8\" >0</td>\n",
       "                        <td id=\"T_2bd37_row4_col9\" class=\"data row4 col9\" >nan</td>\n",
       "            </tr>\n",
       "    </tbody></table>"
      ],
      "text/plain": [
       "<pandas.io.formats.style.Styler at 0x1e07b96a610>"
      ]
     },
     "execution_count": 793,
     "metadata": {},
     "output_type": "execute_result"
    }
   ],
   "source": [
    "df_users.tail().style.hide_index()"
   ]
  },
  {
   "cell_type": "code",
   "execution_count": 794,
   "id": "9bd08ba5",
   "metadata": {},
   "outputs": [
    {
     "name": "stdout",
     "output_type": "stream",
     "text": [
      "<class 'pandas.core.frame.DataFrame'>\n",
      "RangeIndex: 12000 entries, 0 to 11999\n",
      "Data columns (total 10 columns):\n",
      " #   Column                      Non-Null Count  Dtype  \n",
      "---  ------                      --------------  -----  \n",
      " 0   object_id                   12000 non-null  int64  \n",
      " 1   creation_time               12000 non-null  object \n",
      " 2   name                        12000 non-null  object \n",
      " 3   email                       12000 non-null  object \n",
      " 4   creation_source             12000 non-null  object \n",
      " 5   last_session_creation_time  8823 non-null   float64\n",
      " 6   opted_in_to_mailing_list    12000 non-null  int64  \n",
      " 7   enabled_for_marketing_drip  12000 non-null  int64  \n",
      " 8   org_id                      12000 non-null  int64  \n",
      " 9   invited_by_user_id          6417 non-null   float64\n",
      "dtypes: float64(2), int64(4), object(4)\n",
      "memory usage: 937.6+ KB\n"
     ]
    }
   ],
   "source": [
    "df_users.info()"
   ]
  },
  {
   "cell_type": "markdown",
   "id": "8fd45bb2",
   "metadata": {},
   "source": [
    "Renaming a particular column for the users provides more uniformity of terminology:"
   ]
  },
  {
   "cell_type": "code",
   "execution_count": 795,
   "id": "1cd19594",
   "metadata": {},
   "outputs": [],
   "source": [
    "df_users.rename(columns = {'object_id':'user_id'}, inplace = True)"
   ]
  },
  {
   "cell_type": "markdown",
   "id": "1acf4dc7",
   "metadata": {},
   "source": [
    "Now to replace the column for 'creation_time' with a corresponding series that is more compatible with machine learning models:"
   ]
  },
  {
   "cell_type": "code",
   "execution_count": 796,
   "id": "cfb465dd",
   "metadata": {},
   "outputs": [
    {
     "data": {
      "text/plain": [
       "Series([], Name: creation_time, dtype: datetime64[ns])"
      ]
     },
     "execution_count": 796,
     "metadata": {},
     "output_type": "execute_result"
    }
   ],
   "source": [
    "df_users['creation_time'] = pd.to_datetime(df_users['creation_time'])\n",
    "df_users['creation_time'].head(0)"
   ]
  },
  {
   "cell_type": "code",
   "execution_count": 797,
   "id": "4f6556b4",
   "metadata": {},
   "outputs": [],
   "source": [
    "time_max = max(np.array([df_sessions['time_stamp'].max(), df_users['creation_time'].max()]))"
   ]
  },
  {
   "cell_type": "markdown",
   "id": "08b01700",
   "metadata": {},
   "source": [
    "The cell above calculates the most recent datetime between the two dataframes.  How long before this point in time would be a good way to express the user's account creation time."
   ]
  },
  {
   "cell_type": "code",
   "execution_count": 798,
   "id": "acd0eab7",
   "metadata": {},
   "outputs": [
    {
     "data": {
      "text/plain": [
       "0     3927920.0\n",
       "1    17579626.0\n",
       "2    38331838.0\n",
       "3    32942962.0\n",
       "4    43649070.0\n",
       "Name: creation_time, dtype: float64"
      ]
     },
     "execution_count": 798,
     "metadata": {},
     "output_type": "execute_result"
    }
   ],
   "source": [
    "df_users['creation_time'] = time_max - df_users['creation_time']\n",
    "df_users['creation_time'] = [df_users['creation_time'][i].total_seconds() for i in df_users.index]\n",
    "df_users['creation_time'].head()"
   ]
  },
  {
   "cell_type": "markdown",
   "id": "2d860fa1",
   "metadata": {},
   "source": [
    "Looking further into the users' dataframe:"
   ]
  },
  {
   "cell_type": "code",
   "execution_count": 799,
   "id": "10a3f2a8",
   "metadata": {},
   "outputs": [
    {
     "data": {
      "text/plain": [
       "(3927920.0, 17579626.0)"
      ]
     },
     "execution_count": 799,
     "metadata": {},
     "output_type": "execute_result"
    }
   ],
   "source": [
    "df_users['creation_time'][0], df_users['creation_time'][1]"
   ]
  },
  {
   "cell_type": "code",
   "execution_count": 800,
   "id": "e5a7b644",
   "metadata": {},
   "outputs": [
    {
     "data": {
      "text/plain": [
       "array(['GUEST_INVITE', 'ORG_INVITE', 'SIGNUP', 'PERSONAL_PROJECTS',\n",
       "       'SIGNUP_GOOGLE_AUTH'], dtype=object)"
      ]
     },
     "execution_count": 800,
     "metadata": {},
     "output_type": "execute_result"
    }
   ],
   "source": [
    "df_users['creation_source'].unique()"
   ]
  },
  {
   "cell_type": "markdown",
   "id": "33aa10fa",
   "metadata": {},
   "source": [
    "One hot encode the column for creation source:"
   ]
  },
  {
   "cell_type": "code",
   "execution_count": 801,
   "id": "a5780c9a",
   "metadata": {},
   "outputs": [
    {
     "data": {
      "text/html": [
       "<style  type=\"text/css\" >\n",
       "</style><table id=\"T_25128_\" ><thead>    <tr>        <th class=\"col_heading level0 col0\" >user_id</th>        <th class=\"col_heading level0 col1\" >creation_time</th>        <th class=\"col_heading level0 col2\" >name</th>        <th class=\"col_heading level0 col3\" >email</th>        <th class=\"col_heading level0 col4\" >last_session_creation_time</th>        <th class=\"col_heading level0 col5\" >opted_in_to_mailing_list</th>        <th class=\"col_heading level0 col6\" >enabled_for_marketing_drip</th>        <th class=\"col_heading level0 col7\" >org_id</th>        <th class=\"col_heading level0 col8\" >invited_by_user_id</th>        <th class=\"col_heading level0 col9\" >GUEST_INVITE</th>        <th class=\"col_heading level0 col10\" >ORG_INVITE</th>        <th class=\"col_heading level0 col11\" >PERSONAL_PROJECTS</th>        <th class=\"col_heading level0 col12\" >SIGNUP</th>        <th class=\"col_heading level0 col13\" >SIGNUP_GOOGLE_AUTH</th>    </tr></thead><tbody>\n",
       "                <tr>\n",
       "                                <td id=\"T_25128_row0_col0\" class=\"data row0 col0\" >11996</td>\n",
       "                        <td id=\"T_25128_row0_col1\" class=\"data row0 col1\" >23618675.000000</td>\n",
       "                        <td id=\"T_25128_row0_col2\" class=\"data row0 col2\" >Meier Sophia</td>\n",
       "                        <td id=\"T_25128_row0_col3\" class=\"data row0 col3\" >SophiaMeier@gustr.com</td>\n",
       "                        <td id=\"T_25128_row0_col4\" class=\"data row0 col4\" >1378448055.000000</td>\n",
       "                        <td id=\"T_25128_row0_col5\" class=\"data row0 col5\" >0</td>\n",
       "                        <td id=\"T_25128_row0_col6\" class=\"data row0 col6\" >0</td>\n",
       "                        <td id=\"T_25128_row0_col7\" class=\"data row0 col7\" >89</td>\n",
       "                        <td id=\"T_25128_row0_col8\" class=\"data row0 col8\" >8263.000000</td>\n",
       "                        <td id=\"T_25128_row0_col9\" class=\"data row0 col9\" >0</td>\n",
       "                        <td id=\"T_25128_row0_col10\" class=\"data row0 col10\" >1</td>\n",
       "                        <td id=\"T_25128_row0_col11\" class=\"data row0 col11\" >0</td>\n",
       "                        <td id=\"T_25128_row0_col12\" class=\"data row0 col12\" >0</td>\n",
       "                        <td id=\"T_25128_row0_col13\" class=\"data row0 col13\" >0</td>\n",
       "            </tr>\n",
       "            <tr>\n",
       "                                <td id=\"T_25128_row1_col0\" class=\"data row1 col0\" >11997</td>\n",
       "                        <td id=\"T_25128_row1_col1\" class=\"data row1 col1\" >44224213.000000</td>\n",
       "                        <td id=\"T_25128_row1_col2\" class=\"data row1 col2\" >Fisher Amelie</td>\n",
       "                        <td id=\"T_25128_row1_col3\" class=\"data row1 col3\" >AmelieFisher@gmail.com</td>\n",
       "                        <td id=\"T_25128_row1_col4\" class=\"data row1 col4\" >1358274517.000000</td>\n",
       "                        <td id=\"T_25128_row1_col5\" class=\"data row1 col5\" >0</td>\n",
       "                        <td id=\"T_25128_row1_col6\" class=\"data row1 col6\" >0</td>\n",
       "                        <td id=\"T_25128_row1_col7\" class=\"data row1 col7\" >200</td>\n",
       "                        <td id=\"T_25128_row1_col8\" class=\"data row1 col8\" >nan</td>\n",
       "                        <td id=\"T_25128_row1_col9\" class=\"data row1 col9\" >0</td>\n",
       "                        <td id=\"T_25128_row1_col10\" class=\"data row1 col10\" >0</td>\n",
       "                        <td id=\"T_25128_row1_col11\" class=\"data row1 col11\" >0</td>\n",
       "                        <td id=\"T_25128_row1_col12\" class=\"data row1 col12\" >0</td>\n",
       "                        <td id=\"T_25128_row1_col13\" class=\"data row1 col13\" >1</td>\n",
       "            </tr>\n",
       "            <tr>\n",
       "                                <td id=\"T_25128_row2_col0\" class=\"data row2 col0\" >11998</td>\n",
       "                        <td id=\"T_25128_row2_col1\" class=\"data row2 col1\" >3464014.000000</td>\n",
       "                        <td id=\"T_25128_row2_col2\" class=\"data row2 col2\" >Haynes Jake</td>\n",
       "                        <td id=\"T_25128_row2_col3\" class=\"data row2 col3\" >JakeHaynes@cuvox.de</td>\n",
       "                        <td id=\"T_25128_row2_col4\" class=\"data row2 col4\" >1398602716.000000</td>\n",
       "                        <td id=\"T_25128_row2_col5\" class=\"data row2 col5\" >1</td>\n",
       "                        <td id=\"T_25128_row2_col6\" class=\"data row2 col6\" >1</td>\n",
       "                        <td id=\"T_25128_row2_col7\" class=\"data row2 col7\" >83</td>\n",
       "                        <td id=\"T_25128_row2_col8\" class=\"data row2 col8\" >8074.000000</td>\n",
       "                        <td id=\"T_25128_row2_col9\" class=\"data row2 col9\" >1</td>\n",
       "                        <td id=\"T_25128_row2_col10\" class=\"data row2 col10\" >0</td>\n",
       "                        <td id=\"T_25128_row2_col11\" class=\"data row2 col11\" >0</td>\n",
       "                        <td id=\"T_25128_row2_col12\" class=\"data row2 col12\" >0</td>\n",
       "                        <td id=\"T_25128_row2_col13\" class=\"data row2 col13\" >0</td>\n",
       "            </tr>\n",
       "            <tr>\n",
       "                                <td id=\"T_25128_row3_col0\" class=\"data row3 col0\" >11999</td>\n",
       "                        <td id=\"T_25128_row3_col1\" class=\"data row3 col1\" >63601371.000000</td>\n",
       "                        <td id=\"T_25128_row3_col2\" class=\"data row3 col2\" >Faber Annett</td>\n",
       "                        <td id=\"T_25128_row3_col3\" class=\"data row3 col3\" >mhaerzxp@iuxiw.com</td>\n",
       "                        <td id=\"T_25128_row3_col4\" class=\"data row3 col4\" >1338638159.000000</td>\n",
       "                        <td id=\"T_25128_row3_col5\" class=\"data row3 col5\" >0</td>\n",
       "                        <td id=\"T_25128_row3_col6\" class=\"data row3 col6\" >0</td>\n",
       "                        <td id=\"T_25128_row3_col7\" class=\"data row3 col7\" >6</td>\n",
       "                        <td id=\"T_25128_row3_col8\" class=\"data row3 col8\" >nan</td>\n",
       "                        <td id=\"T_25128_row3_col9\" class=\"data row3 col9\" >0</td>\n",
       "                        <td id=\"T_25128_row3_col10\" class=\"data row3 col10\" >0</td>\n",
       "                        <td id=\"T_25128_row3_col11\" class=\"data row3 col11\" >1</td>\n",
       "                        <td id=\"T_25128_row3_col12\" class=\"data row3 col12\" >0</td>\n",
       "                        <td id=\"T_25128_row3_col13\" class=\"data row3 col13\" >0</td>\n",
       "            </tr>\n",
       "            <tr>\n",
       "                                <td id=\"T_25128_row4_col0\" class=\"data row4 col0\" >12000</td>\n",
       "                        <td id=\"T_25128_row4_col1\" class=\"data row4 col1\" >11340098.000000</td>\n",
       "                        <td id=\"T_25128_row4_col2\" class=\"data row4 col2\" >Lima Tha�s</td>\n",
       "                        <td id=\"T_25128_row4_col3\" class=\"data row4 col3\" >ThaisMeloLima@hotmail.com</td>\n",
       "                        <td id=\"T_25128_row4_col4\" class=\"data row4 col4\" >1390726632.000000</td>\n",
       "                        <td id=\"T_25128_row4_col5\" class=\"data row4 col5\" >0</td>\n",
       "                        <td id=\"T_25128_row4_col6\" class=\"data row4 col6\" >1</td>\n",
       "                        <td id=\"T_25128_row4_col7\" class=\"data row4 col7\" >0</td>\n",
       "                        <td id=\"T_25128_row4_col8\" class=\"data row4 col8\" >nan</td>\n",
       "                        <td id=\"T_25128_row4_col9\" class=\"data row4 col9\" >0</td>\n",
       "                        <td id=\"T_25128_row4_col10\" class=\"data row4 col10\" >0</td>\n",
       "                        <td id=\"T_25128_row4_col11\" class=\"data row4 col11\" >0</td>\n",
       "                        <td id=\"T_25128_row4_col12\" class=\"data row4 col12\" >1</td>\n",
       "                        <td id=\"T_25128_row4_col13\" class=\"data row4 col13\" >0</td>\n",
       "            </tr>\n",
       "    </tbody></table>"
      ],
      "text/plain": [
       "<pandas.io.formats.style.Styler at 0x1e00971a760>"
      ]
     },
     "execution_count": 801,
     "metadata": {},
     "output_type": "execute_result"
    }
   ],
   "source": [
    "dummies = pd.get_dummies(df_users['creation_source'])\n",
    "df_users[dummies.columns] = dummies\n",
    "df_users.drop('creation_source', axis=1, inplace=True)\n",
    "df_users.tail().style.hide_index()"
   ]
  },
  {
   "cell_type": "markdown",
   "id": "c9fb614d",
   "metadata": {},
   "source": [
    "'df_users['last_session_creation_time']' is a redundant column."
   ]
  },
  {
   "cell_type": "code",
   "execution_count": 802,
   "id": "5d3f0282",
   "metadata": {},
   "outputs": [],
   "source": [
    "df_users.drop('last_session_creation_time', axis=1, inplace=True)"
   ]
  },
  {
   "cell_type": "markdown",
   "id": "3a20faa4",
   "metadata": {},
   "source": [
    "The dataframe for users has a column called 'org_id'.  Is it needed?"
   ]
  },
  {
   "cell_type": "code",
   "execution_count": 803,
   "id": "bfea84cd",
   "metadata": {},
   "outputs": [
    {
     "data": {
      "text/plain": [
       "417"
      ]
     },
     "execution_count": 803,
     "metadata": {},
     "output_type": "execute_result"
    }
   ],
   "source": [
    "len(df_users['org_id'].unique())"
   ]
  },
  {
   "cell_type": "markdown",
   "id": "8ccb183a",
   "metadata": {},
   "source": [
    "For this particular assignment, it is not practical to differentiate between this many organizational ID's of account holders."
   ]
  },
  {
   "cell_type": "code",
   "execution_count": 804,
   "id": "4f6b914b",
   "metadata": {},
   "outputs": [],
   "source": [
    "df_users.drop('org_id', axis=1, inplace=True)"
   ]
  },
  {
   "cell_type": "markdown",
   "id": "b6cc1e08",
   "metadata": {},
   "source": [
    "Conserning the column labeled 'invited_by_user_id', we don't need to know who did the inviting, just whether or not the account holder was invited by someone or some organization.  This has already been handled by the one hot encoding of 'creation_source'."
   ]
  },
  {
   "cell_type": "code",
   "execution_count": 805,
   "id": "79ce40eb",
   "metadata": {},
   "outputs": [
    {
     "data": {
      "text/plain": [
       "Index(['user_id', 'creation_time', 'name', 'email', 'opted_in_to_mailing_list',\n",
       "       'enabled_for_marketing_drip', 'GUEST_INVITE', 'ORG_INVITE',\n",
       "       'PERSONAL_PROJECTS', 'SIGNUP', 'SIGNUP_GOOGLE_AUTH'],\n",
       "      dtype='object')"
      ]
     },
     "execution_count": 805,
     "metadata": {},
     "output_type": "execute_result"
    }
   ],
   "source": [
    "df_users.drop('invited_by_user_id', axis=1, inplace=True)\n",
    "df_users.columns"
   ]
  },
  {
   "cell_type": "markdown",
   "id": "348a1793",
   "metadata": {},
   "source": [
    "Now, an adjustment to 'df_sessions' to create a column for the number of days prior to the latest timestamp:"
   ]
  },
  {
   "cell_type": "code",
   "execution_count": 806,
   "id": "036c8470",
   "metadata": {},
   "outputs": [],
   "source": [
    "df_sessions['time difference'] = df_sessions['time_stamp'].max() - df_sessions['time_stamp']\n",
    "df_sessions['time difference'] = [df_sessions['time difference'][i].days for i in df_sessions.index]"
   ]
  },
  {
   "cell_type": "code",
   "execution_count": 807,
   "id": "cd331e17",
   "metadata": {},
   "outputs": [
    {
     "data": {
      "text/plain": [
       "0     45\n",
       "1    203\n",
       "2    189\n",
       "3    179\n",
       "4    163\n",
       "Name: time difference, dtype: int64"
      ]
     },
     "execution_count": 807,
     "metadata": {},
     "output_type": "execute_result"
    }
   ],
   "source": [
    "df_sessions['time difference'].head()"
   ]
  },
  {
   "cell_type": "markdown",
   "id": "410fec41",
   "metadata": {},
   "source": [
    "Here is a list comprehension of session ages by user, (making it a list of lists).  We are only interested in sessions that are no more than 7 days apart and that belong to users with at least three sessions.  For this reason, users with too few sessions will be given three sessions that are 8 days apart to set them up to be discarded."
   ]
  },
  {
   "cell_type": "code",
   "execution_count": 808,
   "id": "45df6c75",
   "metadata": {},
   "outputs": [],
   "source": [
    "session_ages_by_user = [df_sessions[df_sessions['user_id']==i]['time difference'] if \\\n",
    "                      len (df_sessions[df_sessions['user_id']==i].index) >=3 else [8, 0, 0]\\\n",
    "                      for i in df_users.index]"
   ]
  },
  {
   "cell_type": "markdown",
   "id": "501964de",
   "metadata": {},
   "source": [
    "The instructions for this assignment describe frequent users as 'adoptive user'(s) which is awkward terminology.  The phrase used here in its place will be 'heavy user'."
   ]
  },
  {
   "cell_type": "code",
   "execution_count": 809,
   "id": "9807bae8",
   "metadata": {},
   "outputs": [],
   "source": [
    "df_users['heavy user'] = [[pd.Series(int(list(ages)[i-2] - list(ages)[i] <= 7) for i in range(2, len(ages))).max()][0] \\\n",
    "                          for ages in (session_ages_by_user)]"
   ]
  },
  {
   "cell_type": "markdown",
   "id": "aee609a2",
   "metadata": {},
   "source": [
    "Now generating X and y for machine learning:"
   ]
  },
  {
   "cell_type": "code",
   "execution_count": 810,
   "id": "cfba6851",
   "metadata": {},
   "outputs": [],
   "source": [
    "X = df_users.drop(['user_id', 'name', 'email', 'heavy user'], axis=1)\n",
    "y = df_users['heavy user']"
   ]
  },
  {
   "cell_type": "markdown",
   "id": "44f53373",
   "metadata": {},
   "source": [
    "The instructions say to 'identify  which  factors  predict  future  user adoption', the criteria of which are addressed just above the first cell with 'df_users['heavy user']'.  They also recommend spending 1-2 hours with a suggestion of spending even less time.  With this in mind, a scalor object needs to be applied to X so that a simple logistic regression can solve the problem with a review of its coefficients.  Anything beyond that would be overkill for this task."
   ]
  },
  {
   "cell_type": "code",
   "execution_count": 811,
   "id": "8924e381",
   "metadata": {},
   "outputs": [
    {
     "data": {
      "text/plain": [
       "array([[ 0.0032669 , -0.03798208,  0.05582987,  0.03100581, -0.01084153,\n",
       "        -0.04339821,  0.00568179,  0.02390399]])"
      ]
     },
     "execution_count": 811,
     "metadata": {},
     "output_type": "execute_result"
    }
   ],
   "source": [
    "weights = LogisticRegression().fit(StandardScaler().fit_transform(X),y).coef_\n",
    "weights"
   ]
  },
  {
   "cell_type": "markdown",
   "id": "cf4fe565",
   "metadata": {},
   "source": [
    "Here are the contributing factors:"
   ]
  },
  {
   "cell_type": "code",
   "execution_count": 812,
   "id": "494ef57f",
   "metadata": {},
   "outputs": [
    {
     "data": {
      "text/plain": [
       "['creation_time',\n",
       " 'opted_in_to_mailing_list',\n",
       " 'enabled_for_marketing_drip',\n",
       " 'GUEST_INVITE',\n",
       " 'ORG_INVITE',\n",
       " 'PERSONAL_PROJECTS',\n",
       " 'SIGNUP',\n",
       " 'SIGNUP_GOOGLE_AUTH']"
      ]
     },
     "execution_count": 812,
     "metadata": {},
     "output_type": "execute_result"
    }
   ],
   "source": [
    "X_features = df_users.drop(['user_id', 'name', 'email', 'heavy user'], axis=1).columns\n",
    "list(X_features)"
   ]
  },
  {
   "cell_type": "markdown",
   "id": "4301c9a9",
   "metadata": {},
   "source": [
    "Now, to store the 'weights' in a simpler data structure:"
   ]
  },
  {
   "cell_type": "code",
   "execution_count": 813,
   "id": "9c851e0d",
   "metadata": {},
   "outputs": [],
   "source": [
    "list_of_weights = list((list(weights))[0])"
   ]
  },
  {
   "cell_type": "markdown",
   "id": "dfc98933",
   "metadata": {},
   "source": [
    "Here are the features that are most predictive of heavy use occurring at least once and of heavy use never happening, respectively:"
   ]
  },
  {
   "cell_type": "code",
   "execution_count": 814,
   "id": "82f6c876",
   "metadata": {},
   "outputs": [
    {
     "data": {
      "text/plain": [
       "('enabled_for_marketing_drip', 'PERSONAL_PROJECTS')"
      ]
     },
     "execution_count": 814,
     "metadata": {},
     "output_type": "execute_result"
    }
   ],
   "source": [
    "X_features[list_of_weights.index(np.max(weights))], X_features[list_of_weights.index(np.min(weights))]"
   ]
  },
  {
   "cell_type": "markdown",
   "id": "666a19ce",
   "metadata": {},
   "source": [
    "Here is a list going from worst to first of the contributing factors based on their impact on heavy use:"
   ]
  },
  {
   "cell_type": "code",
   "execution_count": 815,
   "id": "6218e991",
   "metadata": {},
   "outputs": [
    {
     "data": {
      "text/plain": [
       "['PERSONAL_PROJECTS',\n",
       " 'opted_in_to_mailing_list',\n",
       " 'ORG_INVITE',\n",
       " 'creation_time',\n",
       " 'SIGNUP',\n",
       " 'SIGNUP_GOOGLE_AUTH',\n",
       " 'GUEST_INVITE',\n",
       " 'enabled_for_marketing_drip']"
      ]
     },
     "execution_count": 815,
     "metadata": {},
     "output_type": "execute_result"
    }
   ],
   "source": [
    "[X_features[list_of_weights.index(weight)] for weight in np.sort(np.array(list_of_weights))]"
   ]
  },
  {
   "cell_type": "markdown",
   "id": "640c97b4",
   "metadata": {},
   "source": [
    "Here is a list of factors that predict that there will not be heavy use in ascending order of 'damage' (going from 'mild to worse'):"
   ]
  },
  {
   "cell_type": "code",
   "execution_count": 816,
   "id": "bd33c937",
   "metadata": {},
   "outputs": [
    {
     "data": {
      "text/plain": [
       "['ORG_INVITE', 'opted_in_to_mailing_list', 'PERSONAL_PROJECTS']"
      ]
     },
     "execution_count": 816,
     "metadata": {},
     "output_type": "execute_result"
    }
   ],
   "source": [
    "[X_features[list_of_weights.index(weight)] for weight in -np.sort(-pd.DataFrame(list_of_weights)\\\n",
    "                                                                 [pd.DataFrame(list_of_weights)[0]<0][0].values)]"
   ]
  },
  {
   "cell_type": "markdown",
   "id": "67a73df7",
   "metadata": {},
   "source": [
    "Here is a list of factors that are predictive of heavy use if not neutral.  These are in ascending order of favorability."
   ]
  },
  {
   "cell_type": "code",
   "execution_count": 817,
   "id": "0d405952",
   "metadata": {},
   "outputs": [
    {
     "data": {
      "text/plain": [
       "['creation_time',\n",
       " 'SIGNUP',\n",
       " 'SIGNUP_GOOGLE_AUTH',\n",
       " 'GUEST_INVITE',\n",
       " 'enabled_for_marketing_drip']"
      ]
     },
     "execution_count": 817,
     "metadata": {},
     "output_type": "execute_result"
    }
   ],
   "source": [
    "[X_features[list_of_weights.index(weight)] for weight in np.sort(pd.DataFrame(list_of_weights)\\\n",
    "                                                                 [pd.DataFrame(list_of_weights)[0]>=0][0].values)]"
   ]
  }
 ],
 "metadata": {
  "kernelspec": {
   "display_name": "Python 3",
   "language": "python",
   "name": "python3"
  },
  "language_info": {
   "codemirror_mode": {
    "name": "ipython",
    "version": 3
   },
   "file_extension": ".py",
   "mimetype": "text/x-python",
   "name": "python",
   "nbconvert_exporter": "python",
   "pygments_lexer": "ipython3",
   "version": "3.8.8"
  }
 },
 "nbformat": 4,
 "nbformat_minor": 5
}
