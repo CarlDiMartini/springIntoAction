{
 "cells": [
  {
   "cell_type": "code",
   "execution_count": 119,
   "id": "ec72c778",
   "metadata": {},
   "outputs": [],
   "source": [
    "import pandas as pd\n",
    "import numpy as np\n",
    "import matplotlib.pyplot as plt\n",
    "import sklearn.metrics as metrics\n",
    "from sklearn.metrics import classification_report\n",
    "from sklearn.ensemble import GradientBoostingClassifier, RandomForestClassifier\n",
    "from sklearn.linear_model import LinearRegression\n",
    "from sklearn.preprocessing import StandardScaler\n",
    "from sklearn.model_selection import train_test_split\n",
    "from skopt import gp_minimize"
   ]
  },
  {
   "cell_type": "code",
   "execution_count": 120,
   "id": "b8314e3d",
   "metadata": {},
   "outputs": [
    {
     "data": {
      "text/html": [
       "<div>\n",
       "<style scoped>\n",
       "    .dataframe tbody tr th:only-of-type {\n",
       "        vertical-align: middle;\n",
       "    }\n",
       "\n",
       "    .dataframe tbody tr th {\n",
       "        vertical-align: top;\n",
       "    }\n",
       "\n",
       "    .dataframe thead th {\n",
       "        text-align: right;\n",
       "    }\n",
       "</style>\n",
       "<table border=\"1\" class=\"dataframe\">\n",
       "  <thead>\n",
       "    <tr style=\"text-align: right;\">\n",
       "      <th></th>\n",
       "    </tr>\n",
       "    <tr>\n",
       "      <th>login_time</th>\n",
       "    </tr>\n",
       "  </thead>\n",
       "  <tbody>\n",
       "    <tr>\n",
       "      <th>1970-01-01 20:13:18</th>\n",
       "    </tr>\n",
       "    <tr>\n",
       "      <th>1970-01-01 20:16:10</th>\n",
       "    </tr>\n",
       "    <tr>\n",
       "      <th>1970-01-01 20:16:37</th>\n",
       "    </tr>\n",
       "    <tr>\n",
       "      <th>1970-01-01 20:16:36</th>\n",
       "    </tr>\n",
       "    <tr>\n",
       "      <th>1970-01-01 20:26:21</th>\n",
       "    </tr>\n",
       "  </tbody>\n",
       "</table>\n",
       "</div>"
      ],
      "text/plain": [
       "Empty DataFrame\n",
       "Columns: []\n",
       "Index: [1970-01-01 20:13:18, 1970-01-01 20:16:10, 1970-01-01 20:16:37, 1970-01-01 20:16:36, 1970-01-01 20:26:21]"
      ]
     },
     "execution_count": 120,
     "metadata": {},
     "output_type": "execute_result"
    }
   ],
   "source": [
    "logins_df = pd.read_json('logins.json')\n",
    "logins_df.set_index('login_time', inplace=True)\n",
    "logins_df.head()"
   ]
  },
  {
   "cell_type": "code",
   "execution_count": 121,
   "id": "e3aa1e77",
   "metadata": {},
   "outputs": [
    {
     "data": {
      "text/plain": [
       "array(['1970-01-01T20:12:16.000000000', '1970-01-01T20:13:18.000000000',\n",
       "       '1970-01-01T20:16:10.000000000', '1970-01-01T20:16:36.000000000',\n",
       "       '1970-01-01T20:16:37.000000000', '1970-01-01T20:21:41.000000000',\n",
       "       '1970-01-01T20:26:05.000000000', '1970-01-01T20:26:21.000000000',\n",
       "       '1970-01-01T20:31:03.000000000', '1970-01-01T20:34:46.000000000',\n",
       "       '1970-01-01T20:34:58.000000000', '1970-01-01T20:35:38.000000000',\n",
       "       '1970-01-01T20:35:47.000000000', '1970-01-01T20:36:34.000000000',\n",
       "       '1970-01-01T20:39:25.000000000', '1970-01-01T20:40:37.000000000',\n",
       "       '1970-01-01T20:43:59.000000000', '1970-01-01T20:47:52.000000000'],\n",
       "      dtype='datetime64[ns]')"
      ]
     },
     "execution_count": 121,
     "metadata": {},
     "output_type": "execute_result"
    }
   ],
   "source": [
    "logins_df[\"login count (15 minute interval)\"] = 1\n",
    "np.sort(np.array((logins_df.index[0:18])))"
   ]
  },
  {
   "cell_type": "code",
   "execution_count": 122,
   "id": "42cfee76",
   "metadata": {},
   "outputs": [
    {
     "data": {
      "text/html": [
       "<div>\n",
       "<style scoped>\n",
       "    .dataframe tbody tr th:only-of-type {\n",
       "        vertical-align: middle;\n",
       "    }\n",
       "\n",
       "    .dataframe tbody tr th {\n",
       "        vertical-align: top;\n",
       "    }\n",
       "\n",
       "    .dataframe thead th {\n",
       "        text-align: right;\n",
       "    }\n",
       "</style>\n",
       "<table border=\"1\" class=\"dataframe\">\n",
       "  <thead>\n",
       "    <tr style=\"text-align: right;\">\n",
       "      <th></th>\n",
       "      <th>login count (15 minute interval)</th>\n",
       "    </tr>\n",
       "    <tr>\n",
       "      <th>login_time</th>\n",
       "      <th></th>\n",
       "    </tr>\n",
       "  </thead>\n",
       "  <tbody>\n",
       "    <tr>\n",
       "      <th>1970-01-01 20:00:00</th>\n",
       "      <td>2</td>\n",
       "    </tr>\n",
       "    <tr>\n",
       "      <th>1970-01-01 20:15:00</th>\n",
       "      <td>6</td>\n",
       "    </tr>\n",
       "    <tr>\n",
       "      <th>1970-01-01 20:30:00</th>\n",
       "      <td>9</td>\n",
       "    </tr>\n",
       "    <tr>\n",
       "      <th>1970-01-01 20:45:00</th>\n",
       "      <td>7</td>\n",
       "    </tr>\n",
       "    <tr>\n",
       "      <th>1970-01-01 21:00:00</th>\n",
       "      <td>1</td>\n",
       "    </tr>\n",
       "  </tbody>\n",
       "</table>\n",
       "</div>"
      ],
      "text/plain": [
       "                     login count (15 minute interval)\n",
       "login_time                                           \n",
       "1970-01-01 20:00:00                                 2\n",
       "1970-01-01 20:15:00                                 6\n",
       "1970-01-01 20:30:00                                 9\n",
       "1970-01-01 20:45:00                                 7\n",
       "1970-01-01 21:00:00                                 1"
      ]
     },
     "execution_count": 122,
     "metadata": {},
     "output_type": "execute_result"
    }
   ],
   "source": [
    "logins_df=pd.DataFrame(logins_df.resample('15Min')[\"login count (15 minute interval)\"].sum())\n",
    "logins_df.head()"
   ]
  },
  {
   "cell_type": "code",
   "execution_count": 123,
   "id": "c51ff579",
   "metadata": {},
   "outputs": [
    {
     "data": {
      "image/png": "[encoded data removed]",
      "text/plain": [
       "<Figure size 432x288 with 1 Axes>"
      ]
     },
     "metadata": {
      "needs_background": "light"
     },
     "output_type": "display_data"
    }
   ],
   "source": [
    "logins_df.plot()\n",
    "plt.show()"
   ]
  },
  {
   "cell_type": "code",
   "execution_count": 124,
   "id": "c4283418",
   "metadata": {},
   "outputs": [
    {
     "name": "stdout",
     "output_type": "stream",
     "text": [
      "\n"
     ]
    },
    {
     "data": {
      "image/png": "[encoded data removed]",
      "text/plain": [
       "<Figure size 1440x720 with 4 Axes>"
      ]
     },
     "metadata": {
      "needs_background": "light"
     },
     "output_type": "display_data"
    }
   ],
   "source": [
    "fig, panes = plt.subplots(nrows=2, ncols=2, figsize=(20,10))\n",
    "fig.suptitle('24 Hour Time Windows for Login Counts', fontsize=25)\n",
    "logins_df.loc['1970-01-10'].plot(ax=panes[0,0])\n",
    "logins_df.loc['1970-02-10'].plot(ax=panes[0,1])\n",
    "logins_df.loc['1970-03-10'].plot(ax=panes[1,0])\n",
    "logins_df.loc['1970-04-10'].plot(ax=panes[1,1])\n",
    "print()"
   ]
  },
  {
   "cell_type": "markdown",
   "id": "7b1a7d2b",
   "metadata": {},
   "source": [
    "The daily pattern of this time series shows two major peaks, one in the day time and the other late at night."
   ]
  },
  {
   "cell_type": "markdown",
   "id": "c4e9a969",
   "metadata": {},
   "source": [
    "### Toll Problem Recommendation:\n",
    "\n",
    "Reimburse tolls for a one-month trial period.\n",
    "\n",
    "For Gotham:\n",
    "\n",
    "Take the existing set of timestamps of trips during one calendar month and resample them 10,000 times.  Determine how many times the number of day trips\n",
    "within these random samples exceeds the number of day trips after the company started reimbursing tolls.  Divide by 10,000 to get the p-value.  If the p-value\n",
    "is at or below 0.05: success.  If greater: failure.\n",
    "\n",
    "For Metropolis:\n",
    "\n",
    "Do the same except replace 'day trips' with 'night trips'.\n",
    "\n",
    "The only caveat is that the existing calculations of revenue per trip have to be modified to include the toll.  Prior expectations of such revenue have to\n",
    "be downgraded accordingly.  If these expectations as downgraded are not met, then the reimbursement should stop."
   ]
  },
  {
   "cell_type": "markdown",
   "id": "d6ba2e4a",
   "metadata": {},
   "source": [
    "### Predictive Modeling:\n"
   ]
  },
  {
   "cell_type": "markdown",
   "id": "12cd0e3d",
   "metadata": {},
   "source": [
    "<br>"
   ]
  },
  {
   "cell_type": "code",
   "execution_count": 125,
   "id": "771e33d3",
   "metadata": {
    "scrolled": true
   },
   "outputs": [
    {
     "data": {
      "text/html": [
       "<style  type=\"text/css\" >\n",
       "</style><table id=\"T_d1c3e_\" ><thead>    <tr>        <th class=\"col_heading level0 col0\" >city</th>        <th class=\"col_heading level0 col1\" >trips_in_first_30_days</th>        <th class=\"col_heading level0 col2\" >signup_date</th>        <th class=\"col_heading level0 col3\" >avg_rating_of_driver</th>        <th class=\"col_heading level0 col4\" >avg_surge</th>        <th class=\"col_heading level0 col5\" >last_trip_date</th>        <th class=\"col_heading level0 col6\" >phone</th>        <th class=\"col_heading level0 col7\" >surge_pct</th>        <th class=\"col_heading level0 col8\" >ultimate_black_user</th>        <th class=\"col_heading level0 col9\" >weekday_pct</th>        <th class=\"col_heading level0 col10\" >avg_dist</th>        <th class=\"col_heading level0 col11\" >avg_rating_by_driver</th>    </tr></thead><tbody>\n",
       "                <tr>\n",
       "                                <td id=\"T_d1c3e_row0_col0\" class=\"data row0 col0\" >King's Landing</td>\n",
       "                        <td id=\"T_d1c3e_row0_col1\" class=\"data row0 col1\" >4</td>\n",
       "                        <td id=\"T_d1c3e_row0_col2\" class=\"data row0 col2\" >2014-01-25</td>\n",
       "                        <td id=\"T_d1c3e_row0_col3\" class=\"data row0 col3\" >4.700000</td>\n",
       "                        <td id=\"T_d1c3e_row0_col4\" class=\"data row0 col4\" >1.100000</td>\n",
       "                        <td id=\"T_d1c3e_row0_col5\" class=\"data row0 col5\" >2014-06-17</td>\n",
       "                        <td id=\"T_d1c3e_row0_col6\" class=\"data row0 col6\" >iPhone</td>\n",
       "                        <td id=\"T_d1c3e_row0_col7\" class=\"data row0 col7\" >15.400000</td>\n",
       "                        <td id=\"T_d1c3e_row0_col8\" class=\"data row0 col8\" >True</td>\n",
       "                        <td id=\"T_d1c3e_row0_col9\" class=\"data row0 col9\" >46.200000</td>\n",
       "                        <td id=\"T_d1c3e_row0_col10\" class=\"data row0 col10\" >3.670000</td>\n",
       "                        <td id=\"T_d1c3e_row0_col11\" class=\"data row0 col11\" >5.000000</td>\n",
       "            </tr>\n",
       "            <tr>\n",
       "                                <td id=\"T_d1c3e_row1_col0\" class=\"data row1 col0\" >Astapor</td>\n",
       "                        <td id=\"T_d1c3e_row1_col1\" class=\"data row1 col1\" >0</td>\n",
       "                        <td id=\"T_d1c3e_row1_col2\" class=\"data row1 col2\" >2014-01-29</td>\n",
       "                        <td id=\"T_d1c3e_row1_col3\" class=\"data row1 col3\" >5.000000</td>\n",
       "                        <td id=\"T_d1c3e_row1_col4\" class=\"data row1 col4\" >1.000000</td>\n",
       "                        <td id=\"T_d1c3e_row1_col5\" class=\"data row1 col5\" >2014-05-05</td>\n",
       "                        <td id=\"T_d1c3e_row1_col6\" class=\"data row1 col6\" >Android</td>\n",
       "                        <td id=\"T_d1c3e_row1_col7\" class=\"data row1 col7\" >0.000000</td>\n",
       "                        <td id=\"T_d1c3e_row1_col8\" class=\"data row1 col8\" >False</td>\n",
       "                        <td id=\"T_d1c3e_row1_col9\" class=\"data row1 col9\" >50.000000</td>\n",
       "                        <td id=\"T_d1c3e_row1_col10\" class=\"data row1 col10\" >8.260000</td>\n",
       "                        <td id=\"T_d1c3e_row1_col11\" class=\"data row1 col11\" >5.000000</td>\n",
       "            </tr>\n",
       "            <tr>\n",
       "                                <td id=\"T_d1c3e_row2_col0\" class=\"data row2 col0\" >Astapor</td>\n",
       "                        <td id=\"T_d1c3e_row2_col1\" class=\"data row2 col1\" >3</td>\n",
       "                        <td id=\"T_d1c3e_row2_col2\" class=\"data row2 col2\" >2014-01-06</td>\n",
       "                        <td id=\"T_d1c3e_row2_col3\" class=\"data row2 col3\" >4.300000</td>\n",
       "                        <td id=\"T_d1c3e_row2_col4\" class=\"data row2 col4\" >1.000000</td>\n",
       "                        <td id=\"T_d1c3e_row2_col5\" class=\"data row2 col5\" >2014-01-07</td>\n",
       "                        <td id=\"T_d1c3e_row2_col6\" class=\"data row2 col6\" >iPhone</td>\n",
       "                        <td id=\"T_d1c3e_row2_col7\" class=\"data row2 col7\" >0.000000</td>\n",
       "                        <td id=\"T_d1c3e_row2_col8\" class=\"data row2 col8\" >False</td>\n",
       "                        <td id=\"T_d1c3e_row2_col9\" class=\"data row2 col9\" >100.000000</td>\n",
       "                        <td id=\"T_d1c3e_row2_col10\" class=\"data row2 col10\" >0.770000</td>\n",
       "                        <td id=\"T_d1c3e_row2_col11\" class=\"data row2 col11\" >5.000000</td>\n",
       "            </tr>\n",
       "            <tr>\n",
       "                                <td id=\"T_d1c3e_row3_col0\" class=\"data row3 col0\" >King's Landing</td>\n",
       "                        <td id=\"T_d1c3e_row3_col1\" class=\"data row3 col1\" >9</td>\n",
       "                        <td id=\"T_d1c3e_row3_col2\" class=\"data row3 col2\" >2014-01-10</td>\n",
       "                        <td id=\"T_d1c3e_row3_col3\" class=\"data row3 col3\" >4.600000</td>\n",
       "                        <td id=\"T_d1c3e_row3_col4\" class=\"data row3 col4\" >1.140000</td>\n",
       "                        <td id=\"T_d1c3e_row3_col5\" class=\"data row3 col5\" >2014-06-29</td>\n",
       "                        <td id=\"T_d1c3e_row3_col6\" class=\"data row3 col6\" >iPhone</td>\n",
       "                        <td id=\"T_d1c3e_row3_col7\" class=\"data row3 col7\" >20.000000</td>\n",
       "                        <td id=\"T_d1c3e_row3_col8\" class=\"data row3 col8\" >True</td>\n",
       "                        <td id=\"T_d1c3e_row3_col9\" class=\"data row3 col9\" >80.000000</td>\n",
       "                        <td id=\"T_d1c3e_row3_col10\" class=\"data row3 col10\" >2.360000</td>\n",
       "                        <td id=\"T_d1c3e_row3_col11\" class=\"data row3 col11\" >4.900000</td>\n",
       "            </tr>\n",
       "            <tr>\n",
       "                                <td id=\"T_d1c3e_row4_col0\" class=\"data row4 col0\" >Winterfell</td>\n",
       "                        <td id=\"T_d1c3e_row4_col1\" class=\"data row4 col1\" >14</td>\n",
       "                        <td id=\"T_d1c3e_row4_col2\" class=\"data row4 col2\" >2014-01-27</td>\n",
       "                        <td id=\"T_d1c3e_row4_col3\" class=\"data row4 col3\" >4.400000</td>\n",
       "                        <td id=\"T_d1c3e_row4_col4\" class=\"data row4 col4\" >1.190000</td>\n",
       "                        <td id=\"T_d1c3e_row4_col5\" class=\"data row4 col5\" >2014-03-15</td>\n",
       "                        <td id=\"T_d1c3e_row4_col6\" class=\"data row4 col6\" >Android</td>\n",
       "                        <td id=\"T_d1c3e_row4_col7\" class=\"data row4 col7\" >11.800000</td>\n",
       "                        <td id=\"T_d1c3e_row4_col8\" class=\"data row4 col8\" >False</td>\n",
       "                        <td id=\"T_d1c3e_row4_col9\" class=\"data row4 col9\" >82.400000</td>\n",
       "                        <td id=\"T_d1c3e_row4_col10\" class=\"data row4 col10\" >3.130000</td>\n",
       "                        <td id=\"T_d1c3e_row4_col11\" class=\"data row4 col11\" >4.900000</td>\n",
       "            </tr>\n",
       "    </tbody></table>"
      ],
      "text/plain": [
       "<pandas.io.formats.style.Styler at 0x22750338c10>"
      ]
     },
     "execution_count": 125,
     "metadata": {},
     "output_type": "execute_result"
    }
   ],
   "source": [
    "challenge_df = pd.read_json('ultimate_data_challenge.json')\n",
    "challenge_df.head().style.hide_index()"
   ]
  },
  {
   "cell_type": "code",
   "execution_count": 126,
   "id": "5ff1feec",
   "metadata": {},
   "outputs": [
    {
     "data": {
      "text/html": [
       "<div>\n",
       "<style scoped>\n",
       "    .dataframe tbody tr th:only-of-type {\n",
       "        vertical-align: middle;\n",
       "    }\n",
       "\n",
       "    .dataframe tbody tr th {\n",
       "        vertical-align: top;\n",
       "    }\n",
       "\n",
       "    .dataframe thead th {\n",
       "        text-align: right;\n",
       "    }\n",
       "</style>\n",
       "<table border=\"1\" class=\"dataframe\">\n",
       "  <thead>\n",
       "    <tr style=\"text-align: right;\">\n",
       "      <th></th>\n",
       "      <th>trips_in_first_30_days</th>\n",
       "      <th>avg_rating_of_driver</th>\n",
       "      <th>avg_surge</th>\n",
       "      <th>surge_pct</th>\n",
       "      <th>weekday_pct</th>\n",
       "      <th>avg_dist</th>\n",
       "      <th>avg_rating_by_driver</th>\n",
       "    </tr>\n",
       "  </thead>\n",
       "  <tbody>\n",
       "    <tr>\n",
       "      <th>count</th>\n",
       "      <td>50000.000000</td>\n",
       "      <td>41878.000000</td>\n",
       "      <td>50000.000000</td>\n",
       "      <td>50000.000000</td>\n",
       "      <td>50000.000000</td>\n",
       "      <td>50000.000000</td>\n",
       "      <td>49799.000000</td>\n",
       "    </tr>\n",
       "    <tr>\n",
       "      <th>mean</th>\n",
       "      <td>2.278200</td>\n",
       "      <td>4.601559</td>\n",
       "      <td>1.074764</td>\n",
       "      <td>8.849536</td>\n",
       "      <td>60.926084</td>\n",
       "      <td>5.796827</td>\n",
       "      <td>4.778158</td>\n",
       "    </tr>\n",
       "    <tr>\n",
       "      <th>std</th>\n",
       "      <td>3.792684</td>\n",
       "      <td>0.617338</td>\n",
       "      <td>0.222336</td>\n",
       "      <td>19.958811</td>\n",
       "      <td>37.081503</td>\n",
       "      <td>5.707357</td>\n",
       "      <td>0.446652</td>\n",
       "    </tr>\n",
       "    <tr>\n",
       "      <th>min</th>\n",
       "      <td>0.000000</td>\n",
       "      <td>1.000000</td>\n",
       "      <td>1.000000</td>\n",
       "      <td>0.000000</td>\n",
       "      <td>0.000000</td>\n",
       "      <td>0.000000</td>\n",
       "      <td>1.000000</td>\n",
       "    </tr>\n",
       "    <tr>\n",
       "      <th>25%</th>\n",
       "      <td>0.000000</td>\n",
       "      <td>4.300000</td>\n",
       "      <td>1.000000</td>\n",
       "      <td>0.000000</td>\n",
       "      <td>33.300000</td>\n",
       "      <td>2.420000</td>\n",
       "      <td>4.700000</td>\n",
       "    </tr>\n",
       "    <tr>\n",
       "      <th>50%</th>\n",
       "      <td>1.000000</td>\n",
       "      <td>4.900000</td>\n",
       "      <td>1.000000</td>\n",
       "      <td>0.000000</td>\n",
       "      <td>66.700000</td>\n",
       "      <td>3.880000</td>\n",
       "      <td>5.000000</td>\n",
       "    </tr>\n",
       "    <tr>\n",
       "      <th>75%</th>\n",
       "      <td>3.000000</td>\n",
       "      <td>5.000000</td>\n",
       "      <td>1.050000</td>\n",
       "      <td>8.600000</td>\n",
       "      <td>100.000000</td>\n",
       "      <td>6.940000</td>\n",
       "      <td>5.000000</td>\n",
       "    </tr>\n",
       "    <tr>\n",
       "      <th>max</th>\n",
       "      <td>125.000000</td>\n",
       "      <td>5.000000</td>\n",
       "      <td>8.000000</td>\n",
       "      <td>100.000000</td>\n",
       "      <td>100.000000</td>\n",
       "      <td>160.960000</td>\n",
       "      <td>5.000000</td>\n",
       "    </tr>\n",
       "  </tbody>\n",
       "</table>\n",
       "</div>"
      ],
      "text/plain": [
       "       trips_in_first_30_days  avg_rating_of_driver     avg_surge  \\\n",
       "count            50000.000000          41878.000000  50000.000000   \n",
       "mean                 2.278200              4.601559      1.074764   \n",
       "std                  3.792684              0.617338      0.222336   \n",
       "min                  0.000000              1.000000      1.000000   \n",
       "25%                  0.000000              4.300000      1.000000   \n",
       "50%                  1.000000              4.900000      1.000000   \n",
       "75%                  3.000000              5.000000      1.050000   \n",
       "max                125.000000              5.000000      8.000000   \n",
       "\n",
       "          surge_pct   weekday_pct      avg_dist  avg_rating_by_driver  \n",
       "count  50000.000000  50000.000000  50000.000000          49799.000000  \n",
       "mean       8.849536     60.926084      5.796827              4.778158  \n",
       "std       19.958811     37.081503      5.707357              0.446652  \n",
       "min        0.000000      0.000000      0.000000              1.000000  \n",
       "25%        0.000000     33.300000      2.420000              4.700000  \n",
       "50%        0.000000     66.700000      3.880000              5.000000  \n",
       "75%        8.600000    100.000000      6.940000              5.000000  \n",
       "max      100.000000    100.000000    160.960000              5.000000  "
      ]
     },
     "execution_count": 126,
     "metadata": {},
     "output_type": "execute_result"
    }
   ],
   "source": [
    "challenge_df.describe()"
   ]
  },
  {
   "cell_type": "code",
   "execution_count": 127,
   "id": "cf66a426",
   "metadata": {},
   "outputs": [
    {
     "name": "stdout",
     "output_type": "stream",
     "text": [
      "<class 'pandas.core.frame.DataFrame'>\n",
      "RangeIndex: 50000 entries, 0 to 49999\n",
      "Data columns (total 12 columns):\n",
      " #   Column                  Non-Null Count  Dtype  \n",
      "---  ------                  --------------  -----  \n",
      " 0   city                    50000 non-null  object \n",
      " 1   trips_in_first_30_days  50000 non-null  int64  \n",
      " 2   signup_date             50000 non-null  object \n",
      " 3   avg_rating_of_driver    41878 non-null  float64\n",
      " 4   avg_surge               50000 non-null  float64\n",
      " 5   last_trip_date          50000 non-null  object \n",
      " 6   phone                   49604 non-null  object \n",
      " 7   surge_pct               50000 non-null  float64\n",
      " 8   ultimate_black_user     50000 non-null  bool   \n",
      " 9   weekday_pct             50000 non-null  float64\n",
      " 10  avg_dist                50000 non-null  float64\n",
      " 11  avg_rating_by_driver    49799 non-null  float64\n",
      "dtypes: bool(1), float64(6), int64(1), object(4)\n",
      "memory usage: 4.2+ MB\n"
     ]
    }
   ],
   "source": [
    "challenge_df.info()"
   ]
  },
  {
   "cell_type": "code",
   "execution_count": 128,
   "id": "3e2d8ebd",
   "metadata": {},
   "outputs": [
    {
     "data": {
      "text/plain": [
       "Winterfell        23336\n",
       "Astapor           16534\n",
       "King's Landing    10130\n",
       "Name: city, dtype: int64"
      ]
     },
     "execution_count": 128,
     "metadata": {},
     "output_type": "execute_result"
    }
   ],
   "source": [
    "challenge_df['city'].value_counts()"
   ]
  },
  {
   "cell_type": "markdown",
   "id": "b1e37939",
   "metadata": {},
   "source": [
    "One hot code the 'city' column:"
   ]
  },
  {
   "cell_type": "code",
   "execution_count": 129,
   "id": "2f533afb",
   "metadata": {},
   "outputs": [
    {
     "data": {
      "text/html": [
       "<style  type=\"text/css\" >\n",
       "</style><table id=\"T_313b0_\" ><thead>    <tr>        <th class=\"col_heading level0 col0\" >trips_in_first_30_days</th>        <th class=\"col_heading level0 col1\" >signup_date</th>        <th class=\"col_heading level0 col2\" >avg_rating_of_driver</th>        <th class=\"col_heading level0 col3\" >avg_surge</th>        <th class=\"col_heading level0 col4\" >last_trip_date</th>        <th class=\"col_heading level0 col5\" >phone</th>        <th class=\"col_heading level0 col6\" >surge_pct</th>        <th class=\"col_heading level0 col7\" >ultimate_black_user</th>        <th class=\"col_heading level0 col8\" >weekday_pct</th>        <th class=\"col_heading level0 col9\" >avg_dist</th>        <th class=\"col_heading level0 col10\" >avg_rating_by_driver</th>        <th class=\"col_heading level0 col11\" >Astapor</th>        <th class=\"col_heading level0 col12\" >King's Landing</th>        <th class=\"col_heading level0 col13\" >Winterfell</th>    </tr></thead><tbody>\n",
       "                <tr>\n",
       "                                <td id=\"T_313b0_row0_col0\" class=\"data row0 col0\" >4</td>\n",
       "                        <td id=\"T_313b0_row0_col1\" class=\"data row0 col1\" >2014-01-25</td>\n",
       "                        <td id=\"T_313b0_row0_col2\" class=\"data row0 col2\" >4.700000</td>\n",
       "                        <td id=\"T_313b0_row0_col3\" class=\"data row0 col3\" >1.100000</td>\n",
       "                        <td id=\"T_313b0_row0_col4\" class=\"data row0 col4\" >2014-06-17</td>\n",
       "                        <td id=\"T_313b0_row0_col5\" class=\"data row0 col5\" >iPhone</td>\n",
       "                        <td id=\"T_313b0_row0_col6\" class=\"data row0 col6\" >15.400000</td>\n",
       "                        <td id=\"T_313b0_row0_col7\" class=\"data row0 col7\" >True</td>\n",
       "                        <td id=\"T_313b0_row0_col8\" class=\"data row0 col8\" >46.200000</td>\n",
       "                        <td id=\"T_313b0_row0_col9\" class=\"data row0 col9\" >3.670000</td>\n",
       "                        <td id=\"T_313b0_row0_col10\" class=\"data row0 col10\" >5.000000</td>\n",
       "                        <td id=\"T_313b0_row0_col11\" class=\"data row0 col11\" >0</td>\n",
       "                        <td id=\"T_313b0_row0_col12\" class=\"data row0 col12\" >1</td>\n",
       "                        <td id=\"T_313b0_row0_col13\" class=\"data row0 col13\" >0</td>\n",
       "            </tr>\n",
       "            <tr>\n",
       "                                <td id=\"T_313b0_row1_col0\" class=\"data row1 col0\" >0</td>\n",
       "                        <td id=\"T_313b0_row1_col1\" class=\"data row1 col1\" >2014-01-29</td>\n",
       "                        <td id=\"T_313b0_row1_col2\" class=\"data row1 col2\" >5.000000</td>\n",
       "                        <td id=\"T_313b0_row1_col3\" class=\"data row1 col3\" >1.000000</td>\n",
       "                        <td id=\"T_313b0_row1_col4\" class=\"data row1 col4\" >2014-05-05</td>\n",
       "                        <td id=\"T_313b0_row1_col5\" class=\"data row1 col5\" >Android</td>\n",
       "                        <td id=\"T_313b0_row1_col6\" class=\"data row1 col6\" >0.000000</td>\n",
       "                        <td id=\"T_313b0_row1_col7\" class=\"data row1 col7\" >False</td>\n",
       "                        <td id=\"T_313b0_row1_col8\" class=\"data row1 col8\" >50.000000</td>\n",
       "                        <td id=\"T_313b0_row1_col9\" class=\"data row1 col9\" >8.260000</td>\n",
       "                        <td id=\"T_313b0_row1_col10\" class=\"data row1 col10\" >5.000000</td>\n",
       "                        <td id=\"T_313b0_row1_col11\" class=\"data row1 col11\" >1</td>\n",
       "                        <td id=\"T_313b0_row1_col12\" class=\"data row1 col12\" >0</td>\n",
       "                        <td id=\"T_313b0_row1_col13\" class=\"data row1 col13\" >0</td>\n",
       "            </tr>\n",
       "            <tr>\n",
       "                                <td id=\"T_313b0_row2_col0\" class=\"data row2 col0\" >3</td>\n",
       "                        <td id=\"T_313b0_row2_col1\" class=\"data row2 col1\" >2014-01-06</td>\n",
       "                        <td id=\"T_313b0_row2_col2\" class=\"data row2 col2\" >4.300000</td>\n",
       "                        <td id=\"T_313b0_row2_col3\" class=\"data row2 col3\" >1.000000</td>\n",
       "                        <td id=\"T_313b0_row2_col4\" class=\"data row2 col4\" >2014-01-07</td>\n",
       "                        <td id=\"T_313b0_row2_col5\" class=\"data row2 col5\" >iPhone</td>\n",
       "                        <td id=\"T_313b0_row2_col6\" class=\"data row2 col6\" >0.000000</td>\n",
       "                        <td id=\"T_313b0_row2_col7\" class=\"data row2 col7\" >False</td>\n",
       "                        <td id=\"T_313b0_row2_col8\" class=\"data row2 col8\" >100.000000</td>\n",
       "                        <td id=\"T_313b0_row2_col9\" class=\"data row2 col9\" >0.770000</td>\n",
       "                        <td id=\"T_313b0_row2_col10\" class=\"data row2 col10\" >5.000000</td>\n",
       "                        <td id=\"T_313b0_row2_col11\" class=\"data row2 col11\" >1</td>\n",
       "                        <td id=\"T_313b0_row2_col12\" class=\"data row2 col12\" >0</td>\n",
       "                        <td id=\"T_313b0_row2_col13\" class=\"data row2 col13\" >0</td>\n",
       "            </tr>\n",
       "            <tr>\n",
       "                                <td id=\"T_313b0_row3_col0\" class=\"data row3 col0\" >9</td>\n",
       "                        <td id=\"T_313b0_row3_col1\" class=\"data row3 col1\" >2014-01-10</td>\n",
       "                        <td id=\"T_313b0_row3_col2\" class=\"data row3 col2\" >4.600000</td>\n",
       "                        <td id=\"T_313b0_row3_col3\" class=\"data row3 col3\" >1.140000</td>\n",
       "                        <td id=\"T_313b0_row3_col4\" class=\"data row3 col4\" >2014-06-29</td>\n",
       "                        <td id=\"T_313b0_row3_col5\" class=\"data row3 col5\" >iPhone</td>\n",
       "                        <td id=\"T_313b0_row3_col6\" class=\"data row3 col6\" >20.000000</td>\n",
       "                        <td id=\"T_313b0_row3_col7\" class=\"data row3 col7\" >True</td>\n",
       "                        <td id=\"T_313b0_row3_col8\" class=\"data row3 col8\" >80.000000</td>\n",
       "                        <td id=\"T_313b0_row3_col9\" class=\"data row3 col9\" >2.360000</td>\n",
       "                        <td id=\"T_313b0_row3_col10\" class=\"data row3 col10\" >4.900000</td>\n",
       "                        <td id=\"T_313b0_row3_col11\" class=\"data row3 col11\" >0</td>\n",
       "                        <td id=\"T_313b0_row3_col12\" class=\"data row3 col12\" >1</td>\n",
       "                        <td id=\"T_313b0_row3_col13\" class=\"data row3 col13\" >0</td>\n",
       "            </tr>\n",
       "            <tr>\n",
       "                                <td id=\"T_313b0_row4_col0\" class=\"data row4 col0\" >14</td>\n",
       "                        <td id=\"T_313b0_row4_col1\" class=\"data row4 col1\" >2014-01-27</td>\n",
       "                        <td id=\"T_313b0_row4_col2\" class=\"data row4 col2\" >4.400000</td>\n",
       "                        <td id=\"T_313b0_row4_col3\" class=\"data row4 col3\" >1.190000</td>\n",
       "                        <td id=\"T_313b0_row4_col4\" class=\"data row4 col4\" >2014-03-15</td>\n",
       "                        <td id=\"T_313b0_row4_col5\" class=\"data row4 col5\" >Android</td>\n",
       "                        <td id=\"T_313b0_row4_col6\" class=\"data row4 col6\" >11.800000</td>\n",
       "                        <td id=\"T_313b0_row4_col7\" class=\"data row4 col7\" >False</td>\n",
       "                        <td id=\"T_313b0_row4_col8\" class=\"data row4 col8\" >82.400000</td>\n",
       "                        <td id=\"T_313b0_row4_col9\" class=\"data row4 col9\" >3.130000</td>\n",
       "                        <td id=\"T_313b0_row4_col10\" class=\"data row4 col10\" >4.900000</td>\n",
       "                        <td id=\"T_313b0_row4_col11\" class=\"data row4 col11\" >0</td>\n",
       "                        <td id=\"T_313b0_row4_col12\" class=\"data row4 col12\" >0</td>\n",
       "                        <td id=\"T_313b0_row4_col13\" class=\"data row4 col13\" >1</td>\n",
       "            </tr>\n",
       "    </tbody></table>"
      ],
      "text/plain": [
       "<pandas.io.formats.style.Styler at 0x2274fc1cbb0>"
      ]
     },
     "execution_count": 129,
     "metadata": {},
     "output_type": "execute_result"
    }
   ],
   "source": [
    "dummies = pd.get_dummies(challenge_df['city'])\n",
    "challenge_df[dummies.columns] = dummies\n",
    "challenge_df.drop('city', axis=1, inplace=True)\n",
    "challenge_df.head().style.hide_index()"
   ]
  },
  {
   "cell_type": "markdown",
   "id": "6305978b",
   "metadata": {},
   "source": [
    "Take an overview if 'trips_in_first_30_days':"
   ]
  },
  {
   "cell_type": "code",
   "execution_count": 130,
   "id": "cb50ec5f",
   "metadata": {},
   "outputs": [
    {
     "data": {
      "text/plain": [
       "0    15390\n",
       "1    14108\n",
       "2     7402\n",
       "3     3788\n",
       "4     2562\n",
       "5     1616\n",
       "6     1134\n",
       "7      819\n",
       "8      589\n",
       "9      471\n",
       "Name: trips_in_first_30_days, dtype: int64"
      ]
     },
     "execution_count": 130,
     "metadata": {},
     "output_type": "execute_result"
    }
   ],
   "source": [
    "challenge_df['trips_in_first_30_days'].value_counts()[:10]"
   ]
  },
  {
   "cell_type": "code",
   "execution_count": 131,
   "id": "ee855e8b",
   "metadata": {},
   "outputs": [
    {
     "data": {
      "image/png": "[encoded data removed]",
      "text/plain": [
       "<Figure size 432x288 with 1 Axes>"
      ]
     },
     "metadata": {
      "needs_background": "light"
     },
     "output_type": "display_data"
    }
   ],
   "source": [
    "np.log((challenge_df['trips_in_first_30_days'] + 1)).hist()\n",
    "plt.show()"
   ]
  },
  {
   "cell_type": "markdown",
   "id": "69d52a20",
   "metadata": {},
   "source": [
    "Make the date of sign-up a datetime series:"
   ]
  },
  {
   "cell_type": "code",
   "execution_count": 132,
   "id": "2f65456f",
   "metadata": {},
   "outputs": [
    {
     "data": {
      "text/plain": [
       "0   2014-01-25\n",
       "1   2014-01-29\n",
       "2   2014-01-06\n",
       "3   2014-01-10\n",
       "4   2014-01-27\n",
       "Name: signup_date, dtype: datetime64[ns]"
      ]
     },
     "execution_count": 132,
     "metadata": {},
     "output_type": "execute_result"
    }
   ],
   "source": [
    "challenge_df['signup_date'] = pd.to_datetime(challenge_df['signup_date'])\n",
    "challenge_df['signup_date'].head()"
   ]
  },
  {
   "cell_type": "markdown",
   "id": "3c0c06f4",
   "metadata": {},
   "source": [
    "Examining the ratings of drivers:"
   ]
  },
  {
   "cell_type": "code",
   "execution_count": 133,
   "id": "275d06b1",
   "metadata": {},
   "outputs": [
    {
     "data": {
      "image/png": "[encoded data removed]",
      "text/plain": [
       "<Figure size 432x288 with 1 Axes>"
      ]
     },
     "metadata": {
      "needs_background": "light"
     },
     "output_type": "display_data"
    }
   ],
   "source": [
    "pd.Series(np.sort(np.array(challenge_df['avg_rating_of_driver']))).plot()\n",
    "plt.show()"
   ]
  },
  {
   "cell_type": "code",
   "execution_count": 134,
   "id": "18b97c32",
   "metadata": {},
   "outputs": [
    {
     "name": "stdout",
     "output_type": "stream",
     "text": [
      "<class 'pandas.core.frame.DataFrame'>\n",
      "RangeIndex: 50000 entries, 0 to 49999\n",
      "Data columns (total 1 columns):\n",
      " #   Column                Non-Null Count  Dtype  \n",
      "---  ------                --------------  -----  \n",
      " 0   avg_rating_of_driver  41878 non-null  float64\n",
      "dtypes: float64(1)\n",
      "memory usage: 390.8 KB\n"
     ]
    }
   ],
   "source": [
    "challenge_df[['avg_rating_of_driver']].info()"
   ]
  },
  {
   "cell_type": "markdown",
   "id": "310a34c4",
   "metadata": {},
   "source": [
    "And imputing the mean thereof:"
   ]
  },
  {
   "cell_type": "code",
   "execution_count": 135,
   "id": "2ef36cd8",
   "metadata": {},
   "outputs": [],
   "source": [
    "challenge_df['avg_rating_of_driver'].fillna(value=challenge_df['avg_rating_of_driver'].mean(), inplace=True)"
   ]
  },
  {
   "cell_type": "markdown",
   "id": "e9b08562",
   "metadata": {},
   "source": [
    "Looking at the average surge:"
   ]
  },
  {
   "cell_type": "code",
   "execution_count": 136,
   "id": "a64a45fd",
   "metadata": {},
   "outputs": [
    {
     "data": {
      "image/png": "[encoded data removed]",
      "text/plain": [
       "<Figure size 432x288 with 1 Axes>"
      ]
     },
     "metadata": {
      "needs_background": "light"
     },
     "output_type": "display_data"
    }
   ],
   "source": [
    "pd.Series(np.sort(np.array(challenge_df['avg_surge']))).plot()\n",
    "plt.show()"
   ]
  },
  {
   "cell_type": "markdown",
   "id": "82c3a81e",
   "metadata": {},
   "source": [
    "As shown in a prior cell, there are no missing values.  Also, the curve of sorted vales is plausible.  Now, turning to the last trip date:"
   ]
  },
  {
   "cell_type": "code",
   "execution_count": 137,
   "id": "1e584a7c",
   "metadata": {},
   "outputs": [
    {
     "data": {
      "text/plain": [
       "0   2014-06-17\n",
       "1   2014-05-05\n",
       "2   2014-01-07\n",
       "3   2014-06-29\n",
       "4   2014-03-15\n",
       "Name: last_trip_date, dtype: datetime64[ns]"
      ]
     },
     "execution_count": 137,
     "metadata": {},
     "output_type": "execute_result"
    }
   ],
   "source": [
    "challenge_df['last_trip_date'] = pd.to_datetime(challenge_df['last_trip_date'])\n",
    "challenge_df['last_trip_date'].head()"
   ]
  },
  {
   "cell_type": "code",
   "execution_count": 138,
   "id": "930b3662",
   "metadata": {},
   "outputs": [
    {
     "name": "stdout",
     "output_type": "stream",
     "text": [
      "<class 'pandas.core.frame.DataFrame'>\n",
      "RangeIndex: 50000 entries, 0 to 49999\n",
      "Data columns (total 1 columns):\n",
      " #   Column          Non-Null Count  Dtype         \n",
      "---  ------          --------------  -----         \n",
      " 0   last_trip_date  50000 non-null  datetime64[ns]\n",
      "dtypes: datetime64[ns](1)\n",
      "memory usage: 390.8 KB\n"
     ]
    }
   ],
   "source": [
    "challenge_df[['last_trip_date']].info()"
   ]
  },
  {
   "cell_type": "markdown",
   "id": "8f806ae7",
   "metadata": {},
   "source": [
    "Now to subtract 30 days from the most recent timestamp in this column.  Customers who used the service on or after this date are considered to be active."
   ]
  },
  {
   "cell_type": "code",
   "execution_count": 139,
   "id": "d9e75abb",
   "metadata": {},
   "outputs": [
    {
     "data": {
      "text/plain": [
       "Timestamp('2014-06-01 00:00:00')"
      ]
     },
     "execution_count": 139,
     "metadata": {},
     "output_type": "execute_result"
    }
   ],
   "source": [
    "retention_date = challenge_df['last_trip_date'].max() - pd.Timedelta(days = 30)\n",
    "retention_date"
   ]
  },
  {
   "cell_type": "code",
   "execution_count": 140,
   "id": "357ab265",
   "metadata": {},
   "outputs": [
    {
     "data": {
      "text/plain": [
       "0    31196\n",
       "1    18804\n",
       "Name: active rider, dtype: int64"
      ]
     },
     "execution_count": 140,
     "metadata": {},
     "output_type": "execute_result"
    }
   ],
   "source": [
    "challenge_df['active rider'] = (challenge_df['last_trip_date'] >= retention_date).astype(int)\n",
    "challenge_df['active rider'].value_counts()"
   ]
  },
  {
   "cell_type": "markdown",
   "id": "c453a49f",
   "metadata": {},
   "source": [
    "The tendency towards inactivity (more '0' than '1') is intuitive for a dataset that is being analyzed because of inactivity.  Of particular interest is the fraction of observed users who were retained:"
   ]
  },
  {
   "cell_type": "code",
   "execution_count": 141,
   "id": "3de9ea71",
   "metadata": {},
   "outputs": [
    {
     "data": {
      "text/plain": [
       "0.37608"
      ]
     },
     "execution_count": 141,
     "metadata": {},
     "output_type": "execute_result"
    }
   ],
   "source": [
    "challenge_df['active rider'].value_counts()[1]/challenge_df.shape[0]"
   ]
  },
  {
   "cell_type": "markdown",
   "id": "056db7dd",
   "metadata": {},
   "source": [
    "Looking at the phone type, in the cases where none is given,  the type will be 'unknown'."
   ]
  },
  {
   "cell_type": "code",
   "execution_count": 142,
   "id": "67805f6b",
   "metadata": {},
   "outputs": [],
   "source": [
    "challenge_df['phone'].fillna('unknown', inplace=True)"
   ]
  },
  {
   "cell_type": "code",
   "execution_count": 143,
   "id": "ef247946",
   "metadata": {},
   "outputs": [
    {
     "data": {
      "text/plain": [
       "iPhone     34582\n",
       "Android    15022\n",
       "unknown      396\n",
       "Name: phone, dtype: int64"
      ]
     },
     "execution_count": 143,
     "metadata": {},
     "output_type": "execute_result"
    }
   ],
   "source": [
    "challenge_df['phone'].value_counts()"
   ]
  },
  {
   "cell_type": "markdown",
   "id": "dbb7c951",
   "metadata": {},
   "source": [
    "Under one hot coding, phones will be tabulated as either 'iPhone' or 'Android'.  The unknown's will simply lack a positive value in either of these two fields."
   ]
  },
  {
   "cell_type": "code",
   "execution_count": 144,
   "id": "c321127e",
   "metadata": {},
   "outputs": [
    {
     "data": {
      "text/html": [
       "<style  type=\"text/css\" >\n",
       "</style><table id=\"T_4f91b_\" ><thead>    <tr>        <th class=\"col_heading level0 col0\" >trips_in_first_30_days</th>        <th class=\"col_heading level0 col1\" >signup_date</th>        <th class=\"col_heading level0 col2\" >avg_rating_of_driver</th>        <th class=\"col_heading level0 col3\" >avg_surge</th>        <th class=\"col_heading level0 col4\" >last_trip_date</th>        <th class=\"col_heading level0 col5\" >surge_pct</th>        <th class=\"col_heading level0 col6\" >ultimate_black_user</th>        <th class=\"col_heading level0 col7\" >weekday_pct</th>        <th class=\"col_heading level0 col8\" >avg_dist</th>        <th class=\"col_heading level0 col9\" >avg_rating_by_driver</th>        <th class=\"col_heading level0 col10\" >Astapor</th>        <th class=\"col_heading level0 col11\" >King's Landing</th>        <th class=\"col_heading level0 col12\" >Winterfell</th>        <th class=\"col_heading level0 col13\" >active rider</th>        <th class=\"col_heading level0 col14\" >Android</th>        <th class=\"col_heading level0 col15\" >iPhone</th>    </tr></thead><tbody>\n",
       "                <tr>\n",
       "                                <td id=\"T_4f91b_row0_col0\" class=\"data row0 col0\" >4</td>\n",
       "                        <td id=\"T_4f91b_row0_col1\" class=\"data row0 col1\" >2014-01-25 00:00:00</td>\n",
       "                        <td id=\"T_4f91b_row0_col2\" class=\"data row0 col2\" >4.700000</td>\n",
       "                        <td id=\"T_4f91b_row0_col3\" class=\"data row0 col3\" >1.100000</td>\n",
       "                        <td id=\"T_4f91b_row0_col4\" class=\"data row0 col4\" >2014-06-17 00:00:00</td>\n",
       "                        <td id=\"T_4f91b_row0_col5\" class=\"data row0 col5\" >15.400000</td>\n",
       "                        <td id=\"T_4f91b_row0_col6\" class=\"data row0 col6\" >True</td>\n",
       "                        <td id=\"T_4f91b_row0_col7\" class=\"data row0 col7\" >46.200000</td>\n",
       "                        <td id=\"T_4f91b_row0_col8\" class=\"data row0 col8\" >3.670000</td>\n",
       "                        <td id=\"T_4f91b_row0_col9\" class=\"data row0 col9\" >5.000000</td>\n",
       "                        <td id=\"T_4f91b_row0_col10\" class=\"data row0 col10\" >0</td>\n",
       "                        <td id=\"T_4f91b_row0_col11\" class=\"data row0 col11\" >1</td>\n",
       "                        <td id=\"T_4f91b_row0_col12\" class=\"data row0 col12\" >0</td>\n",
       "                        <td id=\"T_4f91b_row0_col13\" class=\"data row0 col13\" >1</td>\n",
       "                        <td id=\"T_4f91b_row0_col14\" class=\"data row0 col14\" >0</td>\n",
       "                        <td id=\"T_4f91b_row0_col15\" class=\"data row0 col15\" >1</td>\n",
       "            </tr>\n",
       "            <tr>\n",
       "                                <td id=\"T_4f91b_row1_col0\" class=\"data row1 col0\" >0</td>\n",
       "                        <td id=\"T_4f91b_row1_col1\" class=\"data row1 col1\" >2014-01-29 00:00:00</td>\n",
       "                        <td id=\"T_4f91b_row1_col2\" class=\"data row1 col2\" >5.000000</td>\n",
       "                        <td id=\"T_4f91b_row1_col3\" class=\"data row1 col3\" >1.000000</td>\n",
       "                        <td id=\"T_4f91b_row1_col4\" class=\"data row1 col4\" >2014-05-05 00:00:00</td>\n",
       "                        <td id=\"T_4f91b_row1_col5\" class=\"data row1 col5\" >0.000000</td>\n",
       "                        <td id=\"T_4f91b_row1_col6\" class=\"data row1 col6\" >False</td>\n",
       "                        <td id=\"T_4f91b_row1_col7\" class=\"data row1 col7\" >50.000000</td>\n",
       "                        <td id=\"T_4f91b_row1_col8\" class=\"data row1 col8\" >8.260000</td>\n",
       "                        <td id=\"T_4f91b_row1_col9\" class=\"data row1 col9\" >5.000000</td>\n",
       "                        <td id=\"T_4f91b_row1_col10\" class=\"data row1 col10\" >1</td>\n",
       "                        <td id=\"T_4f91b_row1_col11\" class=\"data row1 col11\" >0</td>\n",
       "                        <td id=\"T_4f91b_row1_col12\" class=\"data row1 col12\" >0</td>\n",
       "                        <td id=\"T_4f91b_row1_col13\" class=\"data row1 col13\" >0</td>\n",
       "                        <td id=\"T_4f91b_row1_col14\" class=\"data row1 col14\" >1</td>\n",
       "                        <td id=\"T_4f91b_row1_col15\" class=\"data row1 col15\" >0</td>\n",
       "            </tr>\n",
       "            <tr>\n",
       "                                <td id=\"T_4f91b_row2_col0\" class=\"data row2 col0\" >3</td>\n",
       "                        <td id=\"T_4f91b_row2_col1\" class=\"data row2 col1\" >2014-01-06 00:00:00</td>\n",
       "                        <td id=\"T_4f91b_row2_col2\" class=\"data row2 col2\" >4.300000</td>\n",
       "                        <td id=\"T_4f91b_row2_col3\" class=\"data row2 col3\" >1.000000</td>\n",
       "                        <td id=\"T_4f91b_row2_col4\" class=\"data row2 col4\" >2014-01-07 00:00:00</td>\n",
       "                        <td id=\"T_4f91b_row2_col5\" class=\"data row2 col5\" >0.000000</td>\n",
       "                        <td id=\"T_4f91b_row2_col6\" class=\"data row2 col6\" >False</td>\n",
       "                        <td id=\"T_4f91b_row2_col7\" class=\"data row2 col7\" >100.000000</td>\n",
       "                        <td id=\"T_4f91b_row2_col8\" class=\"data row2 col8\" >0.770000</td>\n",
       "                        <td id=\"T_4f91b_row2_col9\" class=\"data row2 col9\" >5.000000</td>\n",
       "                        <td id=\"T_4f91b_row2_col10\" class=\"data row2 col10\" >1</td>\n",
       "                        <td id=\"T_4f91b_row2_col11\" class=\"data row2 col11\" >0</td>\n",
       "                        <td id=\"T_4f91b_row2_col12\" class=\"data row2 col12\" >0</td>\n",
       "                        <td id=\"T_4f91b_row2_col13\" class=\"data row2 col13\" >0</td>\n",
       "                        <td id=\"T_4f91b_row2_col14\" class=\"data row2 col14\" >0</td>\n",
       "                        <td id=\"T_4f91b_row2_col15\" class=\"data row2 col15\" >1</td>\n",
       "            </tr>\n",
       "            <tr>\n",
       "                                <td id=\"T_4f91b_row3_col0\" class=\"data row3 col0\" >9</td>\n",
       "                        <td id=\"T_4f91b_row3_col1\" class=\"data row3 col1\" >2014-01-10 00:00:00</td>\n",
       "                        <td id=\"T_4f91b_row3_col2\" class=\"data row3 col2\" >4.600000</td>\n",
       "                        <td id=\"T_4f91b_row3_col3\" class=\"data row3 col3\" >1.140000</td>\n",
       "                        <td id=\"T_4f91b_row3_col4\" class=\"data row3 col4\" >2014-06-29 00:00:00</td>\n",
       "                        <td id=\"T_4f91b_row3_col5\" class=\"data row3 col5\" >20.000000</td>\n",
       "                        <td id=\"T_4f91b_row3_col6\" class=\"data row3 col6\" >True</td>\n",
       "                        <td id=\"T_4f91b_row3_col7\" class=\"data row3 col7\" >80.000000</td>\n",
       "                        <td id=\"T_4f91b_row3_col8\" class=\"data row3 col8\" >2.360000</td>\n",
       "                        <td id=\"T_4f91b_row3_col9\" class=\"data row3 col9\" >4.900000</td>\n",
       "                        <td id=\"T_4f91b_row3_col10\" class=\"data row3 col10\" >0</td>\n",
       "                        <td id=\"T_4f91b_row3_col11\" class=\"data row3 col11\" >1</td>\n",
       "                        <td id=\"T_4f91b_row3_col12\" class=\"data row3 col12\" >0</td>\n",
       "                        <td id=\"T_4f91b_row3_col13\" class=\"data row3 col13\" >1</td>\n",
       "                        <td id=\"T_4f91b_row3_col14\" class=\"data row3 col14\" >0</td>\n",
       "                        <td id=\"T_4f91b_row3_col15\" class=\"data row3 col15\" >1</td>\n",
       "            </tr>\n",
       "            <tr>\n",
       "                                <td id=\"T_4f91b_row4_col0\" class=\"data row4 col0\" >14</td>\n",
       "                        <td id=\"T_4f91b_row4_col1\" class=\"data row4 col1\" >2014-01-27 00:00:00</td>\n",
       "                        <td id=\"T_4f91b_row4_col2\" class=\"data row4 col2\" >4.400000</td>\n",
       "                        <td id=\"T_4f91b_row4_col3\" class=\"data row4 col3\" >1.190000</td>\n",
       "                        <td id=\"T_4f91b_row4_col4\" class=\"data row4 col4\" >2014-03-15 00:00:00</td>\n",
       "                        <td id=\"T_4f91b_row4_col5\" class=\"data row4 col5\" >11.800000</td>\n",
       "                        <td id=\"T_4f91b_row4_col6\" class=\"data row4 col6\" >False</td>\n",
       "                        <td id=\"T_4f91b_row4_col7\" class=\"data row4 col7\" >82.400000</td>\n",
       "                        <td id=\"T_4f91b_row4_col8\" class=\"data row4 col8\" >3.130000</td>\n",
       "                        <td id=\"T_4f91b_row4_col9\" class=\"data row4 col9\" >4.900000</td>\n",
       "                        <td id=\"T_4f91b_row4_col10\" class=\"data row4 col10\" >0</td>\n",
       "                        <td id=\"T_4f91b_row4_col11\" class=\"data row4 col11\" >0</td>\n",
       "                        <td id=\"T_4f91b_row4_col12\" class=\"data row4 col12\" >1</td>\n",
       "                        <td id=\"T_4f91b_row4_col13\" class=\"data row4 col13\" >0</td>\n",
       "                        <td id=\"T_4f91b_row4_col14\" class=\"data row4 col14\" >1</td>\n",
       "                        <td id=\"T_4f91b_row4_col15\" class=\"data row4 col15\" >0</td>\n",
       "            </tr>\n",
       "    </tbody></table>"
      ],
      "text/plain": [
       "<pandas.io.formats.style.Styler at 0x22756ef1640>"
      ]
     },
     "execution_count": 144,
     "metadata": {},
     "output_type": "execute_result"
    }
   ],
   "source": [
    "dummies = pd.get_dummies(challenge_df['phone'])\n",
    "challenge_df[dummies.columns] = dummies\n",
    "challenge_df.drop(['phone', 'unknown'], axis=1, inplace=True)\n",
    "challenge_df.head().style.hide_index()"
   ]
  },
  {
   "cell_type": "markdown",
   "id": "157aac2a",
   "metadata": {},
   "source": [
    "Conserning 'surge_pct':"
   ]
  },
  {
   "cell_type": "code",
   "execution_count": 145,
   "id": "557755d7",
   "metadata": {},
   "outputs": [
    {
     "data": {
      "image/png": "[encoded data removed]",
      "text/plain": [
       "<Figure size 432x288 with 1 Axes>"
      ]
     },
     "metadata": {
      "needs_background": "light"
     },
     "output_type": "display_data"
    }
   ],
   "source": [
    "pd.Series(np.sort(np.array(challenge_df['surge_pct']))).plot()\n",
    "plt.show()"
   ]
  },
  {
   "cell_type": "markdown",
   "id": "c6bc31fa",
   "metadata": {},
   "source": [
    "Nothing to report here.  Concerning 'ultimate_black_user', the only modification will be to turn the column into an interger."
   ]
  },
  {
   "cell_type": "code",
   "execution_count": 146,
   "id": "460c9ebb",
   "metadata": {},
   "outputs": [
    {
     "data": {
      "text/plain": [
       "0    31146\n",
       "1    18854\n",
       "Name: ultimate_black_user, dtype: int64"
      ]
     },
     "execution_count": 146,
     "metadata": {},
     "output_type": "execute_result"
    }
   ],
   "source": [
    "challenge_df['ultimate_black_user'] = challenge_df['ultimate_black_user'].astype(int)\n",
    "challenge_df['ultimate_black_user'].value_counts()"
   ]
  },
  {
   "cell_type": "markdown",
   "id": "04c51328",
   "metadata": {},
   "source": [
    "The rest of the columms were already cleared in the cell in which the '.describe' method was used on the main dataframe except that the missing values in 'avg_rating_by_driver' have to be imputed."
   ]
  },
  {
   "cell_type": "code",
   "execution_count": 147,
   "id": "39d7431f",
   "metadata": {},
   "outputs": [
    {
     "name": "stdout",
     "output_type": "stream",
     "text": [
      "<class 'pandas.core.frame.DataFrame'>\n",
      "RangeIndex: 50000 entries, 0 to 49999\n",
      "Data columns (total 1 columns):\n",
      " #   Column                Non-Null Count  Dtype  \n",
      "---  ------                --------------  -----  \n",
      " 0   avg_rating_by_driver  50000 non-null  float64\n",
      "dtypes: float64(1)\n",
      "memory usage: 390.8 KB\n"
     ]
    }
   ],
   "source": [
    "challenge_df['avg_rating_by_driver'].fillna(value=challenge_df['avg_rating_by_driver'].mean(), inplace=True)\n",
    "challenge_df[['avg_rating_by_driver']].info()"
   ]
  },
  {
   "cell_type": "markdown",
   "id": "ff65773c",
   "metadata": {},
   "source": [
    "How long has the customer been signed up?"
   ]
  },
  {
   "cell_type": "code",
   "execution_count": 148,
   "id": "908521fc",
   "metadata": {},
   "outputs": [],
   "source": [
    " challenge_df['service duration'] = challenge_df['last_trip_date'].max() - challenge_df['signup_date']"
   ]
  },
  {
   "cell_type": "code",
   "execution_count": 149,
   "id": "61ec8a36",
   "metadata": {},
   "outputs": [],
   "source": [
    "challenge_df['service duration'] = [challenge_df['service duration'][i].days for i in \\\n",
    "                                    range (len(challenge_df['service duration']))]"
   ]
  },
  {
   "cell_type": "code",
   "execution_count": 150,
   "id": "158981df",
   "metadata": {},
   "outputs": [
    {
     "data": {
      "text/plain": [
       "(151, 181)"
      ]
     },
     "execution_count": 150,
     "metadata": {},
     "output_type": "execute_result"
    }
   ],
   "source": [
    "challenge_df['service duration'].min(), challenge_df['service duration'].max()"
   ]
  },
  {
   "cell_type": "code",
   "execution_count": 151,
   "id": "eb2770e5",
   "metadata": {},
   "outputs": [
    {
     "data": {
      "image/png": "[encoded data removed]",
      "text/plain": [
       "<Figure size 432x288 with 1 Axes>"
      ]
     },
     "metadata": {
      "needs_background": "light"
     },
     "output_type": "display_data"
    }
   ],
   "source": [
    "challenge_df['service duration'].hist()\n",
    "plt.show()"
   ]
  },
  {
   "cell_type": "markdown",
   "id": "8f1aec06",
   "metadata": {},
   "source": [
    "Because everybody has been signed up for a timeframe of between 151 and 181 days, this problem is to be interpreted as a labeling problem to account for who is and who is not an active customer according to there having been usage or non-usage in the last 30 days."
   ]
  },
  {
   "cell_type": "code",
   "execution_count": 152,
   "id": "35fdf805",
   "metadata": {},
   "outputs": [
    {
     "data": {
      "text/html": [
       "<div>\n",
       "<style scoped>\n",
       "    .dataframe tbody tr th:only-of-type {\n",
       "        vertical-align: middle;\n",
       "    }\n",
       "\n",
       "    .dataframe tbody tr th {\n",
       "        vertical-align: top;\n",
       "    }\n",
       "\n",
       "    .dataframe thead th {\n",
       "        text-align: right;\n",
       "    }\n",
       "</style>\n",
       "<table border=\"1\" class=\"dataframe\">\n",
       "  <thead>\n",
       "    <tr style=\"text-align: right;\">\n",
       "      <th></th>\n",
       "      <th>trips_in_first_30_days</th>\n",
       "      <th>signup_date</th>\n",
       "      <th>avg_rating_of_driver</th>\n",
       "      <th>avg_surge</th>\n",
       "      <th>last_trip_date</th>\n",
       "      <th>surge_pct</th>\n",
       "      <th>ultimate_black_user</th>\n",
       "      <th>weekday_pct</th>\n",
       "      <th>avg_dist</th>\n",
       "      <th>avg_rating_by_driver</th>\n",
       "      <th>Astapor</th>\n",
       "      <th>King's Landing</th>\n",
       "      <th>Winterfell</th>\n",
       "      <th>active rider</th>\n",
       "      <th>Android</th>\n",
       "      <th>iPhone</th>\n",
       "      <th>service duration</th>\n",
       "    </tr>\n",
       "  </thead>\n",
       "  <tbody>\n",
       "    <tr>\n",
       "      <th>0</th>\n",
       "      <td>4</td>\n",
       "      <td>2014-01-25</td>\n",
       "      <td>4.7</td>\n",
       "      <td>1.10</td>\n",
       "      <td>2014-06-17</td>\n",
       "      <td>15.4</td>\n",
       "      <td>1</td>\n",
       "      <td>46.2</td>\n",
       "      <td>3.67</td>\n",
       "      <td>5.0</td>\n",
       "      <td>0</td>\n",
       "      <td>1</td>\n",
       "      <td>0</td>\n",
       "      <td>1</td>\n",
       "      <td>0</td>\n",
       "      <td>1</td>\n",
       "      <td>157</td>\n",
       "    </tr>\n",
       "    <tr>\n",
       "      <th>1</th>\n",
       "      <td>0</td>\n",
       "      <td>2014-01-29</td>\n",
       "      <td>5.0</td>\n",
       "      <td>1.00</td>\n",
       "      <td>2014-05-05</td>\n",
       "      <td>0.0</td>\n",
       "      <td>0</td>\n",
       "      <td>50.0</td>\n",
       "      <td>8.26</td>\n",
       "      <td>5.0</td>\n",
       "      <td>1</td>\n",
       "      <td>0</td>\n",
       "      <td>0</td>\n",
       "      <td>0</td>\n",
       "      <td>1</td>\n",
       "      <td>0</td>\n",
       "      <td>153</td>\n",
       "    </tr>\n",
       "    <tr>\n",
       "      <th>2</th>\n",
       "      <td>3</td>\n",
       "      <td>2014-01-06</td>\n",
       "      <td>4.3</td>\n",
       "      <td>1.00</td>\n",
       "      <td>2014-01-07</td>\n",
       "      <td>0.0</td>\n",
       "      <td>0</td>\n",
       "      <td>100.0</td>\n",
       "      <td>0.77</td>\n",
       "      <td>5.0</td>\n",
       "      <td>1</td>\n",
       "      <td>0</td>\n",
       "      <td>0</td>\n",
       "      <td>0</td>\n",
       "      <td>0</td>\n",
       "      <td>1</td>\n",
       "      <td>176</td>\n",
       "    </tr>\n",
       "    <tr>\n",
       "      <th>3</th>\n",
       "      <td>9</td>\n",
       "      <td>2014-01-10</td>\n",
       "      <td>4.6</td>\n",
       "      <td>1.14</td>\n",
       "      <td>2014-06-29</td>\n",
       "      <td>20.0</td>\n",
       "      <td>1</td>\n",
       "      <td>80.0</td>\n",
       "      <td>2.36</td>\n",
       "      <td>4.9</td>\n",
       "      <td>0</td>\n",
       "      <td>1</td>\n",
       "      <td>0</td>\n",
       "      <td>1</td>\n",
       "      <td>0</td>\n",
       "      <td>1</td>\n",
       "      <td>172</td>\n",
       "    </tr>\n",
       "    <tr>\n",
       "      <th>4</th>\n",
       "      <td>14</td>\n",
       "      <td>2014-01-27</td>\n",
       "      <td>4.4</td>\n",
       "      <td>1.19</td>\n",
       "      <td>2014-03-15</td>\n",
       "      <td>11.8</td>\n",
       "      <td>0</td>\n",
       "      <td>82.4</td>\n",
       "      <td>3.13</td>\n",
       "      <td>4.9</td>\n",
       "      <td>0</td>\n",
       "      <td>0</td>\n",
       "      <td>1</td>\n",
       "      <td>0</td>\n",
       "      <td>1</td>\n",
       "      <td>0</td>\n",
       "      <td>155</td>\n",
       "    </tr>\n",
       "  </tbody>\n",
       "</table>\n",
       "</div>"
      ],
      "text/plain": [
       "   trips_in_first_30_days signup_date  avg_rating_of_driver  avg_surge  \\\n",
       "0                       4  2014-01-25                   4.7       1.10   \n",
       "1                       0  2014-01-29                   5.0       1.00   \n",
       "2                       3  2014-01-06                   4.3       1.00   \n",
       "3                       9  2014-01-10                   4.6       1.14   \n",
       "4                      14  2014-01-27                   4.4       1.19   \n",
       "\n",
       "  last_trip_date  surge_pct  ultimate_black_user  weekday_pct  avg_dist  \\\n",
       "0     2014-06-17       15.4                    1         46.2      3.67   \n",
       "1     2014-05-05        0.0                    0         50.0      8.26   \n",
       "2     2014-01-07        0.0                    0        100.0      0.77   \n",
       "3     2014-06-29       20.0                    1         80.0      2.36   \n",
       "4     2014-03-15       11.8                    0         82.4      3.13   \n",
       "\n",
       "   avg_rating_by_driver  Astapor  King's Landing  Winterfell  active rider  \\\n",
       "0                   5.0        0               1           0             1   \n",
       "1                   5.0        1               0           0             0   \n",
       "2                   5.0        1               0           0             0   \n",
       "3                   4.9        0               1           0             1   \n",
       "4                   4.9        0               0           1             0   \n",
       "\n",
       "   Android  iPhone  service duration  \n",
       "0        0       1               157  \n",
       "1        1       0               153  \n",
       "2        0       1               176  \n",
       "3        0       1               172  \n",
       "4        1       0               155  "
      ]
     },
     "execution_count": 152,
     "metadata": {},
     "output_type": "execute_result"
    }
   ],
   "source": [
    "challenge_df.head()"
   ]
  },
  {
   "cell_type": "code",
   "execution_count": 153,
   "id": "a01cd621",
   "metadata": {},
   "outputs": [],
   "source": [
    "def input_validator_class(X, y):\n",
    "    global y_test\n",
    "    X_train, X_test, y_train, y_test = train_test_split(X, y, test_size=0.33)\n",
    "    scaler_object = StandardScaler()\n",
    "    scaler_object.fit(X_train)\n",
    "    X_train = scaler_object.transform(X_train)\n",
    "    X_test = scaler_object.transform(X_test)\n",
    "    \n",
    "    def objective(params):\n",
    "        global y_pred, probs\n",
    "        learning_rate = params[0]\n",
    "        max_features = params[1]\n",
    "        min_samples_split = params[2]\n",
    "        n_iter_no_change = params[3]\n",
    "        min_samples_leaf = params[4]\n",
    "        max_depth = params[5]\n",
    "    \n",
    "        model = GradientBoostingClassifier\\\n",
    "        (\\\n",
    "         random_state=44, \n",
    "         learning_rate = params[0],\\\n",
    "         max_features = params[1],\\\n",
    "         min_samples_split = params[2],\\\n",
    "         n_iter_no_change = params[3],\\\n",
    "         min_samples_leaf = params[4],\\\n",
    "         max_depth = params[5]\\\n",
    "        )\n",
    "        model.fit(X_train, y_train)\n",
    "        y_pred = model.predict(X_test)\n",
    "        probs = model.predict_proba(X_test)\n",
    "        return -metrics.accuracy_score(y_test, y_pred)\n",
    "    space = [\\\n",
    "        [i for i in range(10,120,10)],                     #learning_rate                \n",
    "        [\"auto\", \"sqrt\", \"log2\"],                          #max_features\n",
    "        [2,4,8],                                           #min_samples_split\n",
    "        [0,1,2,3,4,5],                                     #n_iter_no_change\n",
    "        [1, 2, 4],                                         #min_samples_leaf\n",
    "        [i for i in range(10,120,10)]                      #max_depth\n",
    "        ]\n",
    "    \n",
    "    return gp_minimize(objective, space, n_calls=50, random_state=0)"
   ]
  },
  {
   "cell_type": "code",
   "execution_count": 154,
   "id": "2c727df1",
   "metadata": {},
   "outputs": [
    {
     "data": {
      "text/plain": [
       "0.7542424242424243"
      ]
     },
     "execution_count": 154,
     "metadata": {},
     "output_type": "execute_result"
    }
   ],
   "source": [
    "gb = input_validator_class(challenge_df.drop(['active rider', 'signup_date', 'last_trip_date'], axis=1), \\\n",
    "                           challenge_df['active rider'])\n",
    "-gb.fun"
   ]
  },
  {
   "cell_type": "markdown",
   "id": "d5fbe066",
   "metadata": {},
   "source": [
    "We will try to improve on this with a different classifier:"
   ]
  },
  {
   "cell_type": "code",
   "execution_count": 165,
   "id": "6e28f302",
   "metadata": {},
   "outputs": [],
   "source": [
    "def input_validator_forest(X, y):\n",
    "    global y_test\n",
    "    X_train, X_test, y_train, y_test = train_test_split(X, y, test_size=0.33)\n",
    "    scaler_object = StandardScaler()\n",
    "    scaler_object.fit(X_train)\n",
    "    X_train = scaler_object.transform(X_train)\n",
    "    X_test = scaler_object.transform(X_test)\n",
    "    \n",
    "    def objective(params):\n",
    "        global y_pred, probs\n",
    "        n_estimators = params[0]\n",
    "        max_features = params[1]\n",
    "        min_samples_split = params[2]\n",
    "        bootstrap = params[3]\n",
    "        min_samples_leaf = params[4]\n",
    "        max_depth = params[5]\n",
    "    \n",
    "        model = RandomForestClassifier\\\n",
    "        (\\\n",
    "         n_jobs=-1, random_state=0, n_estimators = n_estimators,\\\n",
    "         max_features = params[1],\\\n",
    "         min_samples_split = params[2],\\\n",
    "         bootstrap = params[3],\\\n",
    "         min_samples_leaf = params[4],\\\n",
    "         max_depth = params[5]\\\n",
    "        )\n",
    "        model.fit(X_train, y_train)\n",
    "        y_pred = model.predict(X_test)\n",
    "        probs = model.predict_proba(X_test)\n",
    "        return -metrics.accuracy_score(y_test, y_pred)\n",
    "    space = [\\\n",
    "        [i for i in range(10,120,10)],                     #n_estimators                \n",
    "        [\"auto\", \"sqrt\", \"log2\"],                          #max_features\n",
    "        [2,4,8],                                           #min_samples_split\n",
    "        [True, False],                                     #bootstrap\n",
    "        [1, 2, 4],                                         #min_samples_leaf\n",
    "        [i for i in range(10,120,10)]                      #max_depth\n",
    "        ]\n",
    "    \n",
    "    return gp_minimize(objective, space, n_calls=50, random_state=0)"
   ]
  },
  {
   "cell_type": "code",
   "execution_count": 166,
   "id": "25cefa90",
   "metadata": {},
   "outputs": [
    {
     "data": {
      "text/plain": [
       "0.7861212121212121"
      ]
     },
     "execution_count": 166,
     "metadata": {},
     "output_type": "execute_result"
    }
   ],
   "source": [
    "rF = input_validator_forest(challenge_df.drop(['active rider', 'signup_date', 'last_trip_date'], axis=1), \\\n",
    "                           challenge_df['active rider'])\n",
    "-rF.fun"
   ]
  },
  {
   "cell_type": "markdown",
   "id": "37b4a491",
   "metadata": {},
   "source": [
    "The vlues for  n_estimators, max_features, min_samples_split, bootstrap, min_samples_leaf and max_depth are as follows:"
   ]
  },
  {
   "cell_type": "code",
   "execution_count": 167,
   "id": "4c085a63",
   "metadata": {},
   "outputs": [
    {
     "data": {
      "text/plain": [
       "[60, 'sqrt', 2, True, 4, 50]"
      ]
     },
     "execution_count": 167,
     "metadata": {},
     "output_type": "execute_result"
    }
   ],
   "source": [
    "rF.x"
   ]
  },
  {
   "cell_type": "code",
   "execution_count": 168,
   "id": "8b5f0153",
   "metadata": {},
   "outputs": [
    {
     "name": "stdout",
     "output_type": "stream",
     "text": [
      "              precision    recall  f1-score   support\n",
      "\n",
      "           0       0.79      0.85      0.82     10274\n",
      "           1       0.72      0.64      0.68      6226\n",
      "\n",
      "    accuracy                           0.77     16500\n",
      "   macro avg       0.76      0.74      0.75     16500\n",
      "weighted avg       0.77      0.77      0.77     16500\n",
      "\n"
     ]
    }
   ],
   "source": [
    "print(classification_report(y_test, y_pred))"
   ]
  },
  {
   "cell_type": "markdown",
   "id": "7e68e739",
   "metadata": {},
   "source": [
    "To see how controllable features affect rider retention, try a linear regression:"
   ]
  },
  {
   "cell_type": "code",
   "execution_count": 169,
   "id": "1bb021b5",
   "metadata": {},
   "outputs": [],
   "source": [
    "X = challenge_df.drop(['active rider', 'signup_date', 'last_trip_date'], axis=1)\n",
    "y = challenge_df['active rider']"
   ]
  },
  {
   "cell_type": "code",
   "execution_count": 170,
   "id": "300ee355",
   "metadata": {},
   "outputs": [],
   "source": [
    "reg = LinearRegression().fit(X,y)"
   ]
  },
  {
   "cell_type": "code",
   "execution_count": 171,
   "id": "a82dc6c1",
   "metadata": {},
   "outputs": [
    {
     "data": {
      "text/plain": [
       "array([ 2.01823724e-02, -1.20241756e-02, -3.86197351e-02,  7.69317288e-04,\n",
       "        1.72084761e-01, -3.09901677e-05, -6.34784272e-03, -3.07424556e-02,\n",
       "       -1.47920130e-01,  2.01835314e-01, -5.39151846e-02, -7.44515873e-02,\n",
       "        1.22984564e-01,  1.13974694e-03])"
      ]
     },
     "execution_count": 171,
     "metadata": {},
     "output_type": "execute_result"
    }
   ],
   "source": [
    "reg.coef_"
   ]
  },
  {
   "cell_type": "code",
   "execution_count": 172,
   "id": "4a765685",
   "metadata": {},
   "outputs": [
    {
     "data": {
      "text/plain": [
       "array([-1.47920130e-01, -7.44515873e-02, -5.39151846e-02, -3.86197351e-02,\n",
       "       -3.07424556e-02, -1.20241756e-02, -6.34784272e-03, -3.09901677e-05,\n",
       "        7.69317288e-04,  1.13974694e-03,  2.01823724e-02,  1.22984564e-01,\n",
       "        1.72084761e-01,  2.01835314e-01])"
      ]
     },
     "execution_count": 172,
     "metadata": {},
     "output_type": "execute_result"
    }
   ],
   "source": [
    "np.sort(reg.coef_)"
   ]
  },
  {
   "cell_type": "code",
   "execution_count": 173,
   "id": "95ffc41b",
   "metadata": {},
   "outputs": [
    {
     "data": {
      "text/plain": [
       "(0.20183531429480817, 0.17208476126229416, 0.12298456397057818)"
      ]
     },
     "execution_count": 173,
     "metadata": {},
     "output_type": "execute_result"
    }
   ],
   "source": [
    "reg.coef_[9], reg.coef_[4], reg.coef_[12]"
   ]
  },
  {
   "cell_type": "code",
   "execution_count": 174,
   "id": "05206b02",
   "metadata": {},
   "outputs": [
    {
     "data": {
      "text/plain": [
       "(\"King's Landing\", 'ultimate_black_user', 'iPhone')"
      ]
     },
     "execution_count": 174,
     "metadata": {},
     "output_type": "execute_result"
    }
   ],
   "source": [
    "X.columns[9], X.columns[4], X.columns[12],"
   ]
  },
  {
   "cell_type": "markdown",
   "id": "654dc6a6",
   "metadata": {},
   "source": [
    "Conclusion: advertise more heavily in King's Landing on iPhones.  Also issue more 'Ultimate Black's' in the first 30 days."
   ]
  }
 ],
 "metadata": {
  "kernelspec": {
   "display_name": "Python 3",
   "language": "python",
   "name": "python3"
  },
  "language_info": {
   "codemirror_mode": {
    "name": "ipython",
    "version": 3
   },
   "file_extension": ".py",
   "mimetype": "text/x-python",
   "name": "python",
   "nbconvert_exporter": "python",
   "pygments_lexer": "ipython3",
   "version": "3.8.8"
  }
 },
 "nbformat": 4,
 "nbformat_minor": 5
}
